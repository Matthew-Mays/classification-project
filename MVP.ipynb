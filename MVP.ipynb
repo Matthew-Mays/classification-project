{
 "cells": [
  {
   "cell_type": "markdown",
   "metadata": {},
   "source": [
    "# Reducing Customer Churn For Telco\n",
    "## What are the drivers for churn\n",
    "### By Matthew Mays\n",
    "9/23/2020"
   ]
  },
  {
   "cell_type": "markdown",
   "metadata": {},
   "source": [
    "# Goals\n",
    "### Find drivers of churn\n",
    "### Accurately predict churn"
   ]
  },
  {
   "cell_type": "code",
   "execution_count": 1,
   "metadata": {},
   "outputs": [],
   "source": [
    "from acquire import get_telco_data\n",
    "from prepare import prep_telco_data\n",
    "import pandas as pd\n",
    "import numpy as np\n",
    "import matplotlib.pyplot as plt\n",
    "import seaborn as sns\n",
    "import scipy.stats as stats\n",
    "\n",
    "from sklearn.metrics import classification_report, confusion_matrix, f1_score\n",
    "from sklearn.linear_model import LogisticRegression\n",
    "from sklearn.ensemble import RandomForestClassifier\n",
    "from sklearn.tree import DecisionTreeClassifier"
   ]
  },
  {
   "cell_type": "markdown",
   "metadata": {},
   "source": [
    "### Acquiring The Data\n",
    "As well as some initial analysis"
   ]
  },
  {
   "cell_type": "code",
   "execution_count": 2,
   "metadata": {},
   "outputs": [
    {
     "data": {
      "text/html": [
       "<div>\n",
       "<style scoped>\n",
       "    .dataframe tbody tr th:only-of-type {\n",
       "        vertical-align: middle;\n",
       "    }\n",
       "\n",
       "    .dataframe tbody tr th {\n",
       "        vertical-align: top;\n",
       "    }\n",
       "\n",
       "    .dataframe thead th {\n",
       "        text-align: right;\n",
       "    }\n",
       "</style>\n",
       "<table border=\"1\" class=\"dataframe\">\n",
       "  <thead>\n",
       "    <tr style=\"text-align: right;\">\n",
       "      <th></th>\n",
       "      <th>payment_type_id</th>\n",
       "      <th>contract_type_id</th>\n",
       "      <th>internet_service_type_id</th>\n",
       "      <th>customer_id</th>\n",
       "      <th>gender</th>\n",
       "      <th>senior_citizen</th>\n",
       "      <th>partner</th>\n",
       "      <th>dependents</th>\n",
       "      <th>tenure</th>\n",
       "      <th>phone_service</th>\n",
       "      <th>...</th>\n",
       "      <th>tech_support</th>\n",
       "      <th>streaming_tv</th>\n",
       "      <th>streaming_movies</th>\n",
       "      <th>paperless_billing</th>\n",
       "      <th>monthly_charges</th>\n",
       "      <th>total_charges</th>\n",
       "      <th>churn</th>\n",
       "      <th>internet_service_type</th>\n",
       "      <th>contract_type</th>\n",
       "      <th>payment_type</th>\n",
       "    </tr>\n",
       "  </thead>\n",
       "  <tbody>\n",
       "    <tr>\n",
       "      <th>0</th>\n",
       "      <td>2</td>\n",
       "      <td>1</td>\n",
       "      <td>1</td>\n",
       "      <td>0003-MKNFE</td>\n",
       "      <td>Male</td>\n",
       "      <td>0</td>\n",
       "      <td>No</td>\n",
       "      <td>No</td>\n",
       "      <td>9</td>\n",
       "      <td>Yes</td>\n",
       "      <td>...</td>\n",
       "      <td>No</td>\n",
       "      <td>No</td>\n",
       "      <td>Yes</td>\n",
       "      <td>No</td>\n",
       "      <td>59.90</td>\n",
       "      <td>542.4</td>\n",
       "      <td>No</td>\n",
       "      <td>DSL</td>\n",
       "      <td>Month-to-month</td>\n",
       "      <td>Mailed check</td>\n",
       "    </tr>\n",
       "    <tr>\n",
       "      <th>1</th>\n",
       "      <td>4</td>\n",
       "      <td>1</td>\n",
       "      <td>1</td>\n",
       "      <td>0013-MHZWF</td>\n",
       "      <td>Female</td>\n",
       "      <td>0</td>\n",
       "      <td>No</td>\n",
       "      <td>Yes</td>\n",
       "      <td>9</td>\n",
       "      <td>Yes</td>\n",
       "      <td>...</td>\n",
       "      <td>Yes</td>\n",
       "      <td>Yes</td>\n",
       "      <td>Yes</td>\n",
       "      <td>Yes</td>\n",
       "      <td>69.40</td>\n",
       "      <td>571.45</td>\n",
       "      <td>No</td>\n",
       "      <td>DSL</td>\n",
       "      <td>Month-to-month</td>\n",
       "      <td>Credit card (automatic)</td>\n",
       "    </tr>\n",
       "    <tr>\n",
       "      <th>2</th>\n",
       "      <td>1</td>\n",
       "      <td>1</td>\n",
       "      <td>1</td>\n",
       "      <td>0015-UOCOJ</td>\n",
       "      <td>Female</td>\n",
       "      <td>1</td>\n",
       "      <td>No</td>\n",
       "      <td>No</td>\n",
       "      <td>7</td>\n",
       "      <td>Yes</td>\n",
       "      <td>...</td>\n",
       "      <td>No</td>\n",
       "      <td>No</td>\n",
       "      <td>No</td>\n",
       "      <td>Yes</td>\n",
       "      <td>48.20</td>\n",
       "      <td>340.35</td>\n",
       "      <td>No</td>\n",
       "      <td>DSL</td>\n",
       "      <td>Month-to-month</td>\n",
       "      <td>Electronic check</td>\n",
       "    </tr>\n",
       "    <tr>\n",
       "      <th>3</th>\n",
       "      <td>1</td>\n",
       "      <td>1</td>\n",
       "      <td>1</td>\n",
       "      <td>0023-HGHWL</td>\n",
       "      <td>Male</td>\n",
       "      <td>1</td>\n",
       "      <td>No</td>\n",
       "      <td>No</td>\n",
       "      <td>1</td>\n",
       "      <td>No</td>\n",
       "      <td>...</td>\n",
       "      <td>No</td>\n",
       "      <td>No</td>\n",
       "      <td>No</td>\n",
       "      <td>Yes</td>\n",
       "      <td>25.10</td>\n",
       "      <td>25.1</td>\n",
       "      <td>Yes</td>\n",
       "      <td>DSL</td>\n",
       "      <td>Month-to-month</td>\n",
       "      <td>Electronic check</td>\n",
       "    </tr>\n",
       "    <tr>\n",
       "      <th>4</th>\n",
       "      <td>3</td>\n",
       "      <td>1</td>\n",
       "      <td>1</td>\n",
       "      <td>0032-PGELS</td>\n",
       "      <td>Female</td>\n",
       "      <td>0</td>\n",
       "      <td>Yes</td>\n",
       "      <td>Yes</td>\n",
       "      <td>1</td>\n",
       "      <td>No</td>\n",
       "      <td>...</td>\n",
       "      <td>No</td>\n",
       "      <td>No</td>\n",
       "      <td>No</td>\n",
       "      <td>No</td>\n",
       "      <td>30.50</td>\n",
       "      <td>30.5</td>\n",
       "      <td>Yes</td>\n",
       "      <td>DSL</td>\n",
       "      <td>Month-to-month</td>\n",
       "      <td>Bank transfer (automatic)</td>\n",
       "    </tr>\n",
       "    <tr>\n",
       "      <th>...</th>\n",
       "      <td>...</td>\n",
       "      <td>...</td>\n",
       "      <td>...</td>\n",
       "      <td>...</td>\n",
       "      <td>...</td>\n",
       "      <td>...</td>\n",
       "      <td>...</td>\n",
       "      <td>...</td>\n",
       "      <td>...</td>\n",
       "      <td>...</td>\n",
       "      <td>...</td>\n",
       "      <td>...</td>\n",
       "      <td>...</td>\n",
       "      <td>...</td>\n",
       "      <td>...</td>\n",
       "      <td>...</td>\n",
       "      <td>...</td>\n",
       "      <td>...</td>\n",
       "      <td>...</td>\n",
       "      <td>...</td>\n",
       "      <td>...</td>\n",
       "    </tr>\n",
       "    <tr>\n",
       "      <th>7038</th>\n",
       "      <td>4</td>\n",
       "      <td>3</td>\n",
       "      <td>3</td>\n",
       "      <td>9950-MTGYX</td>\n",
       "      <td>Male</td>\n",
       "      <td>0</td>\n",
       "      <td>Yes</td>\n",
       "      <td>Yes</td>\n",
       "      <td>28</td>\n",
       "      <td>Yes</td>\n",
       "      <td>...</td>\n",
       "      <td>No internet service</td>\n",
       "      <td>No internet service</td>\n",
       "      <td>No internet service</td>\n",
       "      <td>Yes</td>\n",
       "      <td>20.30</td>\n",
       "      <td>487.95</td>\n",
       "      <td>No</td>\n",
       "      <td>None</td>\n",
       "      <td>Two year</td>\n",
       "      <td>Credit card (automatic)</td>\n",
       "    </tr>\n",
       "    <tr>\n",
       "      <th>7039</th>\n",
       "      <td>2</td>\n",
       "      <td>3</td>\n",
       "      <td>3</td>\n",
       "      <td>9953-ZMKSM</td>\n",
       "      <td>Male</td>\n",
       "      <td>0</td>\n",
       "      <td>No</td>\n",
       "      <td>No</td>\n",
       "      <td>63</td>\n",
       "      <td>Yes</td>\n",
       "      <td>...</td>\n",
       "      <td>No internet service</td>\n",
       "      <td>No internet service</td>\n",
       "      <td>No internet service</td>\n",
       "      <td>No</td>\n",
       "      <td>25.25</td>\n",
       "      <td>1559.3</td>\n",
       "      <td>No</td>\n",
       "      <td>None</td>\n",
       "      <td>Two year</td>\n",
       "      <td>Mailed check</td>\n",
       "    </tr>\n",
       "    <tr>\n",
       "      <th>7040</th>\n",
       "      <td>4</td>\n",
       "      <td>3</td>\n",
       "      <td>3</td>\n",
       "      <td>9964-WBQDJ</td>\n",
       "      <td>Female</td>\n",
       "      <td>0</td>\n",
       "      <td>Yes</td>\n",
       "      <td>No</td>\n",
       "      <td>71</td>\n",
       "      <td>Yes</td>\n",
       "      <td>...</td>\n",
       "      <td>No internet service</td>\n",
       "      <td>No internet service</td>\n",
       "      <td>No internet service</td>\n",
       "      <td>Yes</td>\n",
       "      <td>24.40</td>\n",
       "      <td>1725.4</td>\n",
       "      <td>No</td>\n",
       "      <td>None</td>\n",
       "      <td>Two year</td>\n",
       "      <td>Credit card (automatic)</td>\n",
       "    </tr>\n",
       "    <tr>\n",
       "      <th>7041</th>\n",
       "      <td>3</td>\n",
       "      <td>3</td>\n",
       "      <td>3</td>\n",
       "      <td>9972-EWRJS</td>\n",
       "      <td>Female</td>\n",
       "      <td>0</td>\n",
       "      <td>Yes</td>\n",
       "      <td>Yes</td>\n",
       "      <td>67</td>\n",
       "      <td>Yes</td>\n",
       "      <td>...</td>\n",
       "      <td>No internet service</td>\n",
       "      <td>No internet service</td>\n",
       "      <td>No internet service</td>\n",
       "      <td>Yes</td>\n",
       "      <td>19.25</td>\n",
       "      <td>1372.9</td>\n",
       "      <td>No</td>\n",
       "      <td>None</td>\n",
       "      <td>Two year</td>\n",
       "      <td>Bank transfer (automatic)</td>\n",
       "    </tr>\n",
       "    <tr>\n",
       "      <th>7042</th>\n",
       "      <td>4</td>\n",
       "      <td>3</td>\n",
       "      <td>3</td>\n",
       "      <td>9975-GPKZU</td>\n",
       "      <td>Male</td>\n",
       "      <td>0</td>\n",
       "      <td>Yes</td>\n",
       "      <td>Yes</td>\n",
       "      <td>46</td>\n",
       "      <td>Yes</td>\n",
       "      <td>...</td>\n",
       "      <td>No internet service</td>\n",
       "      <td>No internet service</td>\n",
       "      <td>No internet service</td>\n",
       "      <td>No</td>\n",
       "      <td>19.75</td>\n",
       "      <td>856.5</td>\n",
       "      <td>No</td>\n",
       "      <td>None</td>\n",
       "      <td>Two year</td>\n",
       "      <td>Credit card (automatic)</td>\n",
       "    </tr>\n",
       "  </tbody>\n",
       "</table>\n",
       "<p>7043 rows × 24 columns</p>\n",
       "</div>"
      ],
      "text/plain": [
       "      payment_type_id  contract_type_id  internet_service_type_id customer_id  \\\n",
       "0                   2                 1                         1  0003-MKNFE   \n",
       "1                   4                 1                         1  0013-MHZWF   \n",
       "2                   1                 1                         1  0015-UOCOJ   \n",
       "3                   1                 1                         1  0023-HGHWL   \n",
       "4                   3                 1                         1  0032-PGELS   \n",
       "...               ...               ...                       ...         ...   \n",
       "7038                4                 3                         3  9950-MTGYX   \n",
       "7039                2                 3                         3  9953-ZMKSM   \n",
       "7040                4                 3                         3  9964-WBQDJ   \n",
       "7041                3                 3                         3  9972-EWRJS   \n",
       "7042                4                 3                         3  9975-GPKZU   \n",
       "\n",
       "      gender  senior_citizen partner dependents  tenure phone_service  ...  \\\n",
       "0       Male               0      No         No       9           Yes  ...   \n",
       "1     Female               0      No        Yes       9           Yes  ...   \n",
       "2     Female               1      No         No       7           Yes  ...   \n",
       "3       Male               1      No         No       1            No  ...   \n",
       "4     Female               0     Yes        Yes       1            No  ...   \n",
       "...      ...             ...     ...        ...     ...           ...  ...   \n",
       "7038    Male               0     Yes        Yes      28           Yes  ...   \n",
       "7039    Male               0      No         No      63           Yes  ...   \n",
       "7040  Female               0     Yes         No      71           Yes  ...   \n",
       "7041  Female               0     Yes        Yes      67           Yes  ...   \n",
       "7042    Male               0     Yes        Yes      46           Yes  ...   \n",
       "\n",
       "             tech_support         streaming_tv     streaming_movies  \\\n",
       "0                      No                   No                  Yes   \n",
       "1                     Yes                  Yes                  Yes   \n",
       "2                      No                   No                   No   \n",
       "3                      No                   No                   No   \n",
       "4                      No                   No                   No   \n",
       "...                   ...                  ...                  ...   \n",
       "7038  No internet service  No internet service  No internet service   \n",
       "7039  No internet service  No internet service  No internet service   \n",
       "7040  No internet service  No internet service  No internet service   \n",
       "7041  No internet service  No internet service  No internet service   \n",
       "7042  No internet service  No internet service  No internet service   \n",
       "\n",
       "     paperless_billing monthly_charges total_charges churn  \\\n",
       "0                   No           59.90         542.4    No   \n",
       "1                  Yes           69.40        571.45    No   \n",
       "2                  Yes           48.20        340.35    No   \n",
       "3                  Yes           25.10          25.1   Yes   \n",
       "4                   No           30.50          30.5   Yes   \n",
       "...                ...             ...           ...   ...   \n",
       "7038               Yes           20.30        487.95    No   \n",
       "7039                No           25.25        1559.3    No   \n",
       "7040               Yes           24.40        1725.4    No   \n",
       "7041               Yes           19.25        1372.9    No   \n",
       "7042                No           19.75         856.5    No   \n",
       "\n",
       "     internet_service_type   contract_type               payment_type  \n",
       "0                      DSL  Month-to-month               Mailed check  \n",
       "1                      DSL  Month-to-month    Credit card (automatic)  \n",
       "2                      DSL  Month-to-month           Electronic check  \n",
       "3                      DSL  Month-to-month           Electronic check  \n",
       "4                      DSL  Month-to-month  Bank transfer (automatic)  \n",
       "...                    ...             ...                        ...  \n",
       "7038                  None        Two year    Credit card (automatic)  \n",
       "7039                  None        Two year               Mailed check  \n",
       "7040                  None        Two year    Credit card (automatic)  \n",
       "7041                  None        Two year  Bank transfer (automatic)  \n",
       "7042                  None        Two year    Credit card (automatic)  \n",
       "\n",
       "[7043 rows x 24 columns]"
      ]
     },
     "execution_count": 2,
     "metadata": {},
     "output_type": "execute_result"
    }
   ],
   "source": [
    "# Use acquire function to get telco data set\n",
    "telco = get_telco_data()\n",
    "telco"
   ]
  },
  {
   "cell_type": "code",
   "execution_count": 3,
   "metadata": {},
   "outputs": [
    {
     "name": "stdout",
     "output_type": "stream",
     "text": [
      "<class 'pandas.core.frame.DataFrame'>\n",
      "Int64Index: 7043 entries, 0 to 7042\n",
      "Data columns (total 24 columns):\n",
      " #   Column                    Non-Null Count  Dtype  \n",
      "---  ------                    --------------  -----  \n",
      " 0   payment_type_id           7043 non-null   int64  \n",
      " 1   contract_type_id          7043 non-null   int64  \n",
      " 2   internet_service_type_id  7043 non-null   int64  \n",
      " 3   customer_id               7043 non-null   object \n",
      " 4   gender                    7043 non-null   object \n",
      " 5   senior_citizen            7043 non-null   int64  \n",
      " 6   partner                   7043 non-null   object \n",
      " 7   dependents                7043 non-null   object \n",
      " 8   tenure                    7043 non-null   int64  \n",
      " 9   phone_service             7043 non-null   object \n",
      " 10  multiple_lines            7043 non-null   object \n",
      " 11  online_security           7043 non-null   object \n",
      " 12  online_backup             7043 non-null   object \n",
      " 13  device_protection         7043 non-null   object \n",
      " 14  tech_support              7043 non-null   object \n",
      " 15  streaming_tv              7043 non-null   object \n",
      " 16  streaming_movies          7043 non-null   object \n",
      " 17  paperless_billing         7043 non-null   object \n",
      " 18  monthly_charges           7043 non-null   float64\n",
      " 19  total_charges             7043 non-null   object \n",
      " 20  churn                     7043 non-null   object \n",
      " 21  internet_service_type     7043 non-null   object \n",
      " 22  contract_type             7043 non-null   object \n",
      " 23  payment_type              7043 non-null   object \n",
      "dtypes: float64(1), int64(5), object(18)\n",
      "memory usage: 1.3+ MB\n"
     ]
    }
   ],
   "source": [
    "# A quick look into the data set shows that most of the columns are object types.\n",
    "# While monthly charges are a float total charges are an object which means there might be something going on there.\n",
    "telco.info()"
   ]
  },
  {
   "cell_type": "code",
   "execution_count": 4,
   "metadata": {},
   "outputs": [
    {
     "data": {
      "text/html": [
       "<div>\n",
       "<style scoped>\n",
       "    .dataframe tbody tr th:only-of-type {\n",
       "        vertical-align: middle;\n",
       "    }\n",
       "\n",
       "    .dataframe tbody tr th {\n",
       "        vertical-align: top;\n",
       "    }\n",
       "\n",
       "    .dataframe thead th {\n",
       "        text-align: right;\n",
       "    }\n",
       "</style>\n",
       "<table border=\"1\" class=\"dataframe\">\n",
       "  <thead>\n",
       "    <tr style=\"text-align: right;\">\n",
       "      <th></th>\n",
       "      <th>payment_type_id</th>\n",
       "      <th>contract_type_id</th>\n",
       "      <th>internet_service_type_id</th>\n",
       "      <th>senior_citizen</th>\n",
       "      <th>tenure</th>\n",
       "      <th>monthly_charges</th>\n",
       "    </tr>\n",
       "  </thead>\n",
       "  <tbody>\n",
       "    <tr>\n",
       "      <th>count</th>\n",
       "      <td>7043.000000</td>\n",
       "      <td>7043.000000</td>\n",
       "      <td>7043.000000</td>\n",
       "      <td>7043.000000</td>\n",
       "      <td>7043.000000</td>\n",
       "      <td>7043.000000</td>\n",
       "    </tr>\n",
       "    <tr>\n",
       "      <th>mean</th>\n",
       "      <td>2.315633</td>\n",
       "      <td>1.690473</td>\n",
       "      <td>1.872923</td>\n",
       "      <td>0.162147</td>\n",
       "      <td>32.371149</td>\n",
       "      <td>64.761692</td>\n",
       "    </tr>\n",
       "    <tr>\n",
       "      <th>std</th>\n",
       "      <td>1.148907</td>\n",
       "      <td>0.833755</td>\n",
       "      <td>0.737796</td>\n",
       "      <td>0.368612</td>\n",
       "      <td>24.559481</td>\n",
       "      <td>30.090047</td>\n",
       "    </tr>\n",
       "    <tr>\n",
       "      <th>min</th>\n",
       "      <td>1.000000</td>\n",
       "      <td>1.000000</td>\n",
       "      <td>1.000000</td>\n",
       "      <td>0.000000</td>\n",
       "      <td>0.000000</td>\n",
       "      <td>18.250000</td>\n",
       "    </tr>\n",
       "    <tr>\n",
       "      <th>25%</th>\n",
       "      <td>1.000000</td>\n",
       "      <td>1.000000</td>\n",
       "      <td>1.000000</td>\n",
       "      <td>0.000000</td>\n",
       "      <td>9.000000</td>\n",
       "      <td>35.500000</td>\n",
       "    </tr>\n",
       "    <tr>\n",
       "      <th>50%</th>\n",
       "      <td>2.000000</td>\n",
       "      <td>1.000000</td>\n",
       "      <td>2.000000</td>\n",
       "      <td>0.000000</td>\n",
       "      <td>29.000000</td>\n",
       "      <td>70.350000</td>\n",
       "    </tr>\n",
       "    <tr>\n",
       "      <th>75%</th>\n",
       "      <td>3.000000</td>\n",
       "      <td>2.000000</td>\n",
       "      <td>2.000000</td>\n",
       "      <td>0.000000</td>\n",
       "      <td>55.000000</td>\n",
       "      <td>89.850000</td>\n",
       "    </tr>\n",
       "    <tr>\n",
       "      <th>max</th>\n",
       "      <td>4.000000</td>\n",
       "      <td>3.000000</td>\n",
       "      <td>3.000000</td>\n",
       "      <td>1.000000</td>\n",
       "      <td>72.000000</td>\n",
       "      <td>118.750000</td>\n",
       "    </tr>\n",
       "  </tbody>\n",
       "</table>\n",
       "</div>"
      ],
      "text/plain": [
       "       payment_type_id  contract_type_id  internet_service_type_id  \\\n",
       "count      7043.000000       7043.000000               7043.000000   \n",
       "mean          2.315633          1.690473                  1.872923   \n",
       "std           1.148907          0.833755                  0.737796   \n",
       "min           1.000000          1.000000                  1.000000   \n",
       "25%           1.000000          1.000000                  1.000000   \n",
       "50%           2.000000          1.000000                  2.000000   \n",
       "75%           3.000000          2.000000                  2.000000   \n",
       "max           4.000000          3.000000                  3.000000   \n",
       "\n",
       "       senior_citizen       tenure  monthly_charges  \n",
       "count     7043.000000  7043.000000      7043.000000  \n",
       "mean         0.162147    32.371149        64.761692  \n",
       "std          0.368612    24.559481        30.090047  \n",
       "min          0.000000     0.000000        18.250000  \n",
       "25%          0.000000     9.000000        35.500000  \n",
       "50%          0.000000    29.000000        70.350000  \n",
       "75%          0.000000    55.000000        89.850000  \n",
       "max          1.000000    72.000000       118.750000  "
      ]
     },
     "execution_count": 4,
     "metadata": {},
     "output_type": "execute_result"
    }
   ],
   "source": [
    "# Taking a look at the describe method might shed some light on that.\n",
    "# It seems that tenure has a minimum value of 0 which might cause some issues with total charges\n",
    "telco.describe()"
   ]
  },
  {
   "cell_type": "code",
   "execution_count": 91,
   "metadata": {},
   "outputs": [
    {
     "name": "stdout",
     "output_type": "stream",
     "text": [
      "1    2365\n",
      "2    1612\n",
      "3    1544\n",
      "4    1522\n",
      "Name: payment_type_id, dtype: int64\n",
      "\n",
      "1    3875\n",
      "3    1695\n",
      "2    1473\n",
      "Name: contract_type_id, dtype: int64\n",
      "\n",
      "2    3096\n",
      "1    2421\n",
      "3    1526\n",
      "Name: internet_service_type_id, dtype: int64\n",
      "\n",
      "Male      3555\n",
      "Female    3488\n",
      "Name: gender, dtype: int64\n",
      "\n",
      "0    5901\n",
      "1    1142\n",
      "Name: senior_citizen, dtype: int64\n",
      "\n",
      "No     3641\n",
      "Yes    3402\n",
      "Name: partner, dtype: int64\n",
      "\n",
      "No     4933\n",
      "Yes    2110\n",
      "Name: dependents, dtype: int64\n",
      "\n",
      "Yes    6361\n",
      "No      682\n",
      "Name: phone_service, dtype: int64\n",
      "\n",
      "No                  3390\n",
      "Yes                 2971\n",
      "No phone service     682\n",
      "Name: multiple_lines, dtype: int64\n",
      "\n",
      "No                     3498\n",
      "Yes                    2019\n",
      "No internet service    1526\n",
      "Name: online_security, dtype: int64\n",
      "\n",
      "No                     3088\n",
      "Yes                    2429\n",
      "No internet service    1526\n",
      "Name: online_backup, dtype: int64\n",
      "\n",
      "No                     3095\n",
      "Yes                    2422\n",
      "No internet service    1526\n",
      "Name: device_protection, dtype: int64\n",
      "\n",
      "No                     3473\n",
      "Yes                    2044\n",
      "No internet service    1526\n",
      "Name: tech_support, dtype: int64\n",
      "\n",
      "No                     2810\n",
      "Yes                    2707\n",
      "No internet service    1526\n",
      "Name: streaming_tv, dtype: int64\n",
      "\n",
      "No                     2785\n",
      "Yes                    2732\n",
      "No internet service    1526\n",
      "Name: streaming_movies, dtype: int64\n",
      "\n",
      "Yes    4171\n",
      "No     2872\n",
      "Name: paperless_billing, dtype: int64\n",
      "\n",
      "No     5174\n",
      "Yes    1869\n",
      "Name: churn, dtype: int64\n",
      "\n",
      "Fiber optic    3096\n",
      "DSL            2421\n",
      "None           1526\n",
      "Name: internet_service_type, dtype: int64\n",
      "\n",
      "Month-to-month    3875\n",
      "Two year          1695\n",
      "One year          1473\n",
      "Name: contract_type, dtype: int64\n",
      "\n",
      "Electronic check             2365\n",
      "Mailed check                 1612\n",
      "Bank transfer (automatic)    1544\n",
      "Credit card (automatic)      1522\n",
      "Name: payment_type, dtype: int64\n",
      "\n"
     ]
    }
   ],
   "source": [
    "for col in telco:\n",
    "    if col !='customer_id' and col != 'monthly_charges' and col != 'total_charges' and col != 'tenure':\n",
    "        print(telco[col].value_counts())\n",
    "        print()"
   ]
  },
  {
   "cell_type": "code",
   "execution_count": 6,
   "metadata": {
    "scrolled": false
   },
   "outputs": [
    {
     "data": {
      "image/png": "[encoded data removed]",
      "text/plain": [
       "<Figure size 288x288 with 1 Axes>"
      ]
     },
     "metadata": {
      "needs_background": "light"
     },
     "output_type": "display_data"
    },
    {
     "data": {
      "image/png": "[encoded data removed]",
      "text/plain": [
       "<Figure size 288x288 with 1 Axes>"
      ]
     },
     "metadata": {
      "needs_background": "light"
     },
     "output_type": "display_data"
    },
    {
     "data": {
      "image/png": "[encoded data removed]",
      "text/plain": [
       "<Figure size 288x288 with 1 Axes>"
      ]
     },
     "metadata": {
      "needs_background": "light"
     },
     "output_type": "display_data"
    },
    {
     "data": {
      "image/png": "[encoded data removed]",
      "text/plain": [
       "<Figure size 288x288 with 1 Axes>"
      ]
     },
     "metadata": {
      "needs_background": "light"
     },
     "output_type": "display_data"
    },
    {
     "data": {
      "image/png": "[encoded data removed]",
      "text/plain": [
       "<Figure size 288x288 with 1 Axes>"
      ]
     },
     "metadata": {
      "needs_background": "light"
     },
     "output_type": "display_data"
    },
    {
     "data": {
      "image/png": "[encoded data removed]",
      "text/plain": [
       "<Figure size 288x288 with 1 Axes>"
      ]
     },
     "metadata": {
      "needs_background": "light"
     },
     "output_type": "display_data"
    },
    {
     "data": {
      "image/png": "[encoded data removed]",
      "text/plain": [
       "<Figure size 288x288 with 1 Axes>"
      ]
     },
     "metadata": {
      "needs_background": "light"
     },
     "output_type": "display_data"
    },
    {
     "data": {
      "image/png": "[encoded data removed]",
      "text/plain": [
       "<Figure size 288x288 with 1 Axes>"
      ]
     },
     "metadata": {
      "needs_background": "light"
     },
     "output_type": "display_data"
    },
    {
     "data": {
      "image/png": "[encoded data removed]",
      "text/plain": [
       "<Figure size 288x288 with 1 Axes>"
      ]
     },
     "metadata": {
      "needs_background": "light"
     },
     "output_type": "display_data"
    },
    {
     "data": {
      "image/png": "[encoded data removed]",
      "text/plain": [
       "<Figure size 288x288 with 1 Axes>"
      ]
     },
     "metadata": {
      "needs_background": "light"
     },
     "output_type": "display_data"
    },
    {
     "data": {
      "image/png": "[encoded data removed]",
      "text/plain": [
       "<Figure size 288x288 with 1 Axes>"
      ]
     },
     "metadata": {
      "needs_background": "light"
     },
     "output_type": "display_data"
    },
    {
     "data": {
      "image/png": "[encoded data removed]",
      "text/plain": [
       "<Figure size 288x288 with 1 Axes>"
      ]
     },
     "metadata": {
      "needs_background": "light"
     },
     "output_type": "display_data"
    },
    {
     "data": {
      "image/png": "[encoded data removed]",
      "text/plain": [
       "<Figure size 288x288 with 1 Axes>"
      ]
     },
     "metadata": {
      "needs_background": "light"
     },
     "output_type": "display_data"
    },
    {
     "data": {
      "image/png": "[encoded data removed]",
      "text/plain": [
       "<Figure size 288x288 with 1 Axes>"
      ]
     },
     "metadata": {
      "needs_background": "light"
     },
     "output_type": "display_data"
    },
    {
     "data": {
      "image/png": "[encoded data removed]",
      "text/plain": [
       "<Figure size 288x288 with 1 Axes>"
      ]
     },
     "metadata": {
      "needs_background": "light"
     },
     "output_type": "display_data"
    },
    {
     "data": {
      "image/png": "[encoded data removed]",
      "text/plain": [
       "<Figure size 288x288 with 1 Axes>"
      ]
     },
     "metadata": {
      "needs_background": "light"
     },
     "output_type": "display_data"
    },
    {
     "data": {
      "image/png": "[encoded data removed]",
      "text/plain": [
       "<Figure size 288x288 with 1 Axes>"
      ]
     },
     "metadata": {
      "needs_background": "light"
     },
     "output_type": "display_data"
    },
    {
     "data": {
      "image/png": "[encoded data removed]",
      "text/plain": [
       "<Figure size 288x288 with 1 Axes>"
      ]
     },
     "metadata": {
      "needs_background": "light"
     },
     "output_type": "display_data"
    },
    {
     "data": {
      "image/png": "[encoded data removed]",
      "text/plain": [
       "<Figure size 288x288 with 1 Axes>"
      ]
     },
     "metadata": {
      "needs_background": "light"
     },
     "output_type": "display_data"
    },
    {
     "data": {
      "image/png": "[encoded data removed]",
      "text/plain": [
       "<Figure size 288x288 with 1 Axes>"
      ]
     },
     "metadata": {
      "needs_background": "light"
     },
     "output_type": "display_data"
    },
    {
     "data": {
      "image/png": "[encoded data removed]",
      "text/plain": [
       "<Figure size 288x288 with 1 Axes>"
      ]
     },
     "metadata": {
      "needs_background": "light"
     },
     "output_type": "display_data"
    }
   ],
   "source": [
    "for col in telco.columns:\n",
    "    if col != 'customer_id' and col != 'total_charges' and col != 'payment_type':\n",
    "        plt.figure(figsize=(4, 4))\n",
    "        plt.hist(telco[col])\n",
    "        plt.title(col)\n",
    "        plt.show()"
   ]
  },
  {
   "cell_type": "markdown",
   "metadata": {},
   "source": [
    "- There aren't any outliers\n",
    "- There are noticable minorities in seniors and customers without phone service.\n",
    "- gender is fairly close\n",
    "- monthly charges has a huge spike in customers with low monthly charges but that is most likely due to how many customers only have phone service"
   ]
  },
  {
   "cell_type": "markdown",
   "metadata": {},
   "source": [
    "### Preparation\n",
    "- convert object columns with binary values to 0s and 1s\n",
    "    - rename gender column to male with (male = 1 and female = 0)\n",
    "- rename tenure to monthly_tenure\n",
    "- add a column for tenure years\n",
    "- remove duplicates\n",
    "- convert total_charges to float\n",
    "- handle nulls (none found in this set)\n",
    "- There were 11 white space values in total charges due to those customers having a monthly tenure of 0\n",
    "    - removed the 11 rows where tenure was 0 because in a set of 7,000+ 11 rows isn't a huge deal.\n",
    "- Make a variable for customers that only have fiber optic internet\n",
    "- split into train, validate, test"
   ]
  },
  {
   "cell_type": "code",
   "execution_count": 7,
   "metadata": {},
   "outputs": [
    {
     "name": "stderr",
     "output_type": "stream",
     "text": [
      "/Users/matthewmays/codeup-data-science/classification_project/prepare.py:36: UserWarning: Boolean Series key will be reindexed to match DataFrame index.\n",
      "  df = df.drop(df[((df['monthly_tenure'].sort_values() == 0))].index)\n"
     ]
    }
   ],
   "source": [
    "train, validate, test = prep_telco_data()"
   ]
  },
  {
   "cell_type": "code",
   "execution_count": 8,
   "metadata": {},
   "outputs": [
    {
     "data": {
      "text/html": [
       "<div>\n",
       "<style scoped>\n",
       "    .dataframe tbody tr th:only-of-type {\n",
       "        vertical-align: middle;\n",
       "    }\n",
       "\n",
       "    .dataframe tbody tr th {\n",
       "        vertical-align: top;\n",
       "    }\n",
       "\n",
       "    .dataframe thead th {\n",
       "        text-align: right;\n",
       "    }\n",
       "</style>\n",
       "<table border=\"1\" class=\"dataframe\">\n",
       "  <thead>\n",
       "    <tr style=\"text-align: right;\">\n",
       "      <th></th>\n",
       "      <th>payment_type_id</th>\n",
       "      <th>contract_type_id</th>\n",
       "      <th>internet_service_type_id</th>\n",
       "      <th>customer_id</th>\n",
       "      <th>male</th>\n",
       "      <th>senior_citizen</th>\n",
       "      <th>partner</th>\n",
       "      <th>dependents</th>\n",
       "      <th>monthly_tenure</th>\n",
       "      <th>phone_service</th>\n",
       "      <th>...</th>\n",
       "      <th>total_charges</th>\n",
       "      <th>churn</th>\n",
       "      <th>internet_service_type</th>\n",
       "      <th>contract_type</th>\n",
       "      <th>payment_type</th>\n",
       "      <th>is_automatic_payment</th>\n",
       "      <th>phone_lines</th>\n",
       "      <th>yearly_tenure</th>\n",
       "      <th>part_depend</th>\n",
       "      <th>fiber</th>\n",
       "    </tr>\n",
       "  </thead>\n",
       "  <tbody>\n",
       "    <tr>\n",
       "      <th>5399</th>\n",
       "      <td>4</td>\n",
       "      <td>3</td>\n",
       "      <td>1</td>\n",
       "      <td>0757-WCUUZ</td>\n",
       "      <td>1</td>\n",
       "      <td>0</td>\n",
       "      <td>1</td>\n",
       "      <td>1</td>\n",
       "      <td>54</td>\n",
       "      <td>1</td>\n",
       "      <td>...</td>\n",
       "      <td>3409.10</td>\n",
       "      <td>0</td>\n",
       "      <td>DSL</td>\n",
       "      <td>Two year</td>\n",
       "      <td>Credit card (automatic)</td>\n",
       "      <td>1</td>\n",
       "      <td>1</td>\n",
       "      <td>4.50</td>\n",
       "      <td>2</td>\n",
       "      <td>0</td>\n",
       "    </tr>\n",
       "    <tr>\n",
       "      <th>2876</th>\n",
       "      <td>4</td>\n",
       "      <td>1</td>\n",
       "      <td>2</td>\n",
       "      <td>7603-USHJS</td>\n",
       "      <td>1</td>\n",
       "      <td>0</td>\n",
       "      <td>0</td>\n",
       "      <td>1</td>\n",
       "      <td>12</td>\n",
       "      <td>1</td>\n",
       "      <td>...</td>\n",
       "      <td>871.40</td>\n",
       "      <td>1</td>\n",
       "      <td>Fiber optic</td>\n",
       "      <td>Month-to-month</td>\n",
       "      <td>Credit card (automatic)</td>\n",
       "      <td>1</td>\n",
       "      <td>1</td>\n",
       "      <td>1.00</td>\n",
       "      <td>1</td>\n",
       "      <td>1</td>\n",
       "    </tr>\n",
       "    <tr>\n",
       "      <th>659</th>\n",
       "      <td>3</td>\n",
       "      <td>1</td>\n",
       "      <td>1</td>\n",
       "      <td>5311-IHLEI</td>\n",
       "      <td>1</td>\n",
       "      <td>0</td>\n",
       "      <td>0</td>\n",
       "      <td>0</td>\n",
       "      <td>12</td>\n",
       "      <td>0</td>\n",
       "      <td>...</td>\n",
       "      <td>605.75</td>\n",
       "      <td>0</td>\n",
       "      <td>DSL</td>\n",
       "      <td>Month-to-month</td>\n",
       "      <td>Bank transfer (automatic)</td>\n",
       "      <td>1</td>\n",
       "      <td>0</td>\n",
       "      <td>1.00</td>\n",
       "      <td>0</td>\n",
       "      <td>0</td>\n",
       "    </tr>\n",
       "    <tr>\n",
       "      <th>5843</th>\n",
       "      <td>3</td>\n",
       "      <td>3</td>\n",
       "      <td>1</td>\n",
       "      <td>7975-JMZNT</td>\n",
       "      <td>1</td>\n",
       "      <td>0</td>\n",
       "      <td>1</td>\n",
       "      <td>0</td>\n",
       "      <td>66</td>\n",
       "      <td>1</td>\n",
       "      <td>...</td>\n",
       "      <td>6075.90</td>\n",
       "      <td>0</td>\n",
       "      <td>DSL</td>\n",
       "      <td>Two year</td>\n",
       "      <td>Bank transfer (automatic)</td>\n",
       "      <td>1</td>\n",
       "      <td>1</td>\n",
       "      <td>5.50</td>\n",
       "      <td>1</td>\n",
       "      <td>0</td>\n",
       "    </tr>\n",
       "    <tr>\n",
       "      <th>2229</th>\n",
       "      <td>2</td>\n",
       "      <td>1</td>\n",
       "      <td>2</td>\n",
       "      <td>4660-IRIBM</td>\n",
       "      <td>1</td>\n",
       "      <td>0</td>\n",
       "      <td>1</td>\n",
       "      <td>1</td>\n",
       "      <td>18</td>\n",
       "      <td>1</td>\n",
       "      <td>...</td>\n",
       "      <td>1500.50</td>\n",
       "      <td>0</td>\n",
       "      <td>Fiber optic</td>\n",
       "      <td>Month-to-month</td>\n",
       "      <td>Mailed check</td>\n",
       "      <td>0</td>\n",
       "      <td>0</td>\n",
       "      <td>1.50</td>\n",
       "      <td>2</td>\n",
       "      <td>1</td>\n",
       "    </tr>\n",
       "    <tr>\n",
       "      <th>...</th>\n",
       "      <td>...</td>\n",
       "      <td>...</td>\n",
       "      <td>...</td>\n",
       "      <td>...</td>\n",
       "      <td>...</td>\n",
       "      <td>...</td>\n",
       "      <td>...</td>\n",
       "      <td>...</td>\n",
       "      <td>...</td>\n",
       "      <td>...</td>\n",
       "      <td>...</td>\n",
       "      <td>...</td>\n",
       "      <td>...</td>\n",
       "      <td>...</td>\n",
       "      <td>...</td>\n",
       "      <td>...</td>\n",
       "      <td>...</td>\n",
       "      <td>...</td>\n",
       "      <td>...</td>\n",
       "      <td>...</td>\n",
       "      <td>...</td>\n",
       "    </tr>\n",
       "    <tr>\n",
       "      <th>3200</th>\n",
       "      <td>1</td>\n",
       "      <td>1</td>\n",
       "      <td>2</td>\n",
       "      <td>9355-NPPFS</td>\n",
       "      <td>0</td>\n",
       "      <td>1</td>\n",
       "      <td>0</td>\n",
       "      <td>0</td>\n",
       "      <td>26</td>\n",
       "      <td>1</td>\n",
       "      <td>...</td>\n",
       "      <td>2006.10</td>\n",
       "      <td>0</td>\n",
       "      <td>Fiber optic</td>\n",
       "      <td>Month-to-month</td>\n",
       "      <td>Electronic check</td>\n",
       "      <td>0</td>\n",
       "      <td>0</td>\n",
       "      <td>2.17</td>\n",
       "      <td>0</td>\n",
       "      <td>1</td>\n",
       "    </tr>\n",
       "    <tr>\n",
       "      <th>4246</th>\n",
       "      <td>1</td>\n",
       "      <td>2</td>\n",
       "      <td>1</td>\n",
       "      <td>6576-FBXOJ</td>\n",
       "      <td>1</td>\n",
       "      <td>0</td>\n",
       "      <td>1</td>\n",
       "      <td>0</td>\n",
       "      <td>17</td>\n",
       "      <td>0</td>\n",
       "      <td>...</td>\n",
       "      <td>934.80</td>\n",
       "      <td>0</td>\n",
       "      <td>DSL</td>\n",
       "      <td>One year</td>\n",
       "      <td>Electronic check</td>\n",
       "      <td>0</td>\n",
       "      <td>0</td>\n",
       "      <td>1.42</td>\n",
       "      <td>1</td>\n",
       "      <td>0</td>\n",
       "    </tr>\n",
       "    <tr>\n",
       "      <th>2517</th>\n",
       "      <td>1</td>\n",
       "      <td>1</td>\n",
       "      <td>2</td>\n",
       "      <td>5937-EORGB</td>\n",
       "      <td>1</td>\n",
       "      <td>1</td>\n",
       "      <td>1</td>\n",
       "      <td>0</td>\n",
       "      <td>15</td>\n",
       "      <td>1</td>\n",
       "      <td>...</td>\n",
       "      <td>1392.25</td>\n",
       "      <td>0</td>\n",
       "      <td>Fiber optic</td>\n",
       "      <td>Month-to-month</td>\n",
       "      <td>Electronic check</td>\n",
       "      <td>0</td>\n",
       "      <td>1</td>\n",
       "      <td>1.25</td>\n",
       "      <td>1</td>\n",
       "      <td>1</td>\n",
       "    </tr>\n",
       "    <tr>\n",
       "      <th>6236</th>\n",
       "      <td>1</td>\n",
       "      <td>3</td>\n",
       "      <td>2</td>\n",
       "      <td>6297-NOOPG</td>\n",
       "      <td>0</td>\n",
       "      <td>0</td>\n",
       "      <td>1</td>\n",
       "      <td>0</td>\n",
       "      <td>70</td>\n",
       "      <td>1</td>\n",
       "      <td>...</td>\n",
       "      <td>7752.05</td>\n",
       "      <td>0</td>\n",
       "      <td>Fiber optic</td>\n",
       "      <td>Two year</td>\n",
       "      <td>Electronic check</td>\n",
       "      <td>0</td>\n",
       "      <td>1</td>\n",
       "      <td>5.83</td>\n",
       "      <td>1</td>\n",
       "      <td>1</td>\n",
       "    </tr>\n",
       "    <tr>\n",
       "      <th>6332</th>\n",
       "      <td>3</td>\n",
       "      <td>3</td>\n",
       "      <td>2</td>\n",
       "      <td>8398-TBIYD</td>\n",
       "      <td>0</td>\n",
       "      <td>0</td>\n",
       "      <td>0</td>\n",
       "      <td>0</td>\n",
       "      <td>72</td>\n",
       "      <td>1</td>\n",
       "      <td>...</td>\n",
       "      <td>6185.15</td>\n",
       "      <td>0</td>\n",
       "      <td>Fiber optic</td>\n",
       "      <td>Two year</td>\n",
       "      <td>Bank transfer (automatic)</td>\n",
       "      <td>1</td>\n",
       "      <td>1</td>\n",
       "      <td>6.00</td>\n",
       "      <td>0</td>\n",
       "      <td>1</td>\n",
       "    </tr>\n",
       "  </tbody>\n",
       "</table>\n",
       "<p>3937 rows × 29 columns</p>\n",
       "</div>"
      ],
      "text/plain": [
       "      payment_type_id  contract_type_id  internet_service_type_id customer_id  \\\n",
       "5399                4                 3                         1  0757-WCUUZ   \n",
       "2876                4                 1                         2  7603-USHJS   \n",
       "659                 3                 1                         1  5311-IHLEI   \n",
       "5843                3                 3                         1  7975-JMZNT   \n",
       "2229                2                 1                         2  4660-IRIBM   \n",
       "...               ...               ...                       ...         ...   \n",
       "3200                1                 1                         2  9355-NPPFS   \n",
       "4246                1                 2                         1  6576-FBXOJ   \n",
       "2517                1                 1                         2  5937-EORGB   \n",
       "6236                1                 3                         2  6297-NOOPG   \n",
       "6332                3                 3                         2  8398-TBIYD   \n",
       "\n",
       "      male  senior_citizen  partner  dependents  monthly_tenure  \\\n",
       "5399     1               0        1           1              54   \n",
       "2876     1               0        0           1              12   \n",
       "659      1               0        0           0              12   \n",
       "5843     1               0        1           0              66   \n",
       "2229     1               0        1           1              18   \n",
       "...    ...             ...      ...         ...             ...   \n",
       "3200     0               1        0           0              26   \n",
       "4246     1               0        1           0              17   \n",
       "2517     1               1        1           0              15   \n",
       "6236     0               0        1           0              70   \n",
       "6332     0               0        0           0              72   \n",
       "\n",
       "      phone_service  ... total_charges  churn  internet_service_type  \\\n",
       "5399              1  ...       3409.10      0                    DSL   \n",
       "2876              1  ...        871.40      1            Fiber optic   \n",
       "659               0  ...        605.75      0                    DSL   \n",
       "5843              1  ...       6075.90      0                    DSL   \n",
       "2229              1  ...       1500.50      0            Fiber optic   \n",
       "...             ...  ...           ...    ...                    ...   \n",
       "3200              1  ...       2006.10      0            Fiber optic   \n",
       "4246              0  ...        934.80      0                    DSL   \n",
       "2517              1  ...       1392.25      0            Fiber optic   \n",
       "6236              1  ...       7752.05      0            Fiber optic   \n",
       "6332              1  ...       6185.15      0            Fiber optic   \n",
       "\n",
       "       contract_type               payment_type  is_automatic_payment  \\\n",
       "5399        Two year    Credit card (automatic)                     1   \n",
       "2876  Month-to-month    Credit card (automatic)                     1   \n",
       "659   Month-to-month  Bank transfer (automatic)                     1   \n",
       "5843        Two year  Bank transfer (automatic)                     1   \n",
       "2229  Month-to-month               Mailed check                     0   \n",
       "...              ...                        ...                   ...   \n",
       "3200  Month-to-month           Electronic check                     0   \n",
       "4246        One year           Electronic check                     0   \n",
       "2517  Month-to-month           Electronic check                     0   \n",
       "6236        Two year           Electronic check                     0   \n",
       "6332        Two year  Bank transfer (automatic)                     1   \n",
       "\n",
       "      phone_lines  yearly_tenure  part_depend  fiber  \n",
       "5399            1           4.50            2      0  \n",
       "2876            1           1.00            1      1  \n",
       "659             0           1.00            0      0  \n",
       "5843            1           5.50            1      0  \n",
       "2229            0           1.50            2      1  \n",
       "...           ...            ...          ...    ...  \n",
       "3200            0           2.17            0      1  \n",
       "4246            0           1.42            1      0  \n",
       "2517            1           1.25            1      1  \n",
       "6236            1           5.83            1      1  \n",
       "6332            1           6.00            0      1  \n",
       "\n",
       "[3937 rows x 29 columns]"
      ]
     },
     "execution_count": 8,
     "metadata": {},
     "output_type": "execute_result"
    }
   ],
   "source": [
    "train"
   ]
  },
  {
   "cell_type": "code",
   "execution_count": 9,
   "metadata": {},
   "outputs": [
    {
     "data": {
      "text/html": [
       "<div>\n",
       "<style scoped>\n",
       "    .dataframe tbody tr th:only-of-type {\n",
       "        vertical-align: middle;\n",
       "    }\n",
       "\n",
       "    .dataframe tbody tr th {\n",
       "        vertical-align: top;\n",
       "    }\n",
       "\n",
       "    .dataframe thead th {\n",
       "        text-align: right;\n",
       "    }\n",
       "</style>\n",
       "<table border=\"1\" class=\"dataframe\">\n",
       "  <thead>\n",
       "    <tr style=\"text-align: right;\">\n",
       "      <th></th>\n",
       "      <th>payment_type_id</th>\n",
       "      <th>contract_type_id</th>\n",
       "      <th>internet_service_type_id</th>\n",
       "      <th>male</th>\n",
       "      <th>senior_citizen</th>\n",
       "      <th>partner</th>\n",
       "      <th>dependents</th>\n",
       "      <th>monthly_tenure</th>\n",
       "      <th>phone_service</th>\n",
       "      <th>online_security</th>\n",
       "      <th>...</th>\n",
       "      <th>streaming_movies</th>\n",
       "      <th>paperless_billing</th>\n",
       "      <th>monthly_charges</th>\n",
       "      <th>total_charges</th>\n",
       "      <th>churn</th>\n",
       "      <th>is_automatic_payment</th>\n",
       "      <th>phone_lines</th>\n",
       "      <th>yearly_tenure</th>\n",
       "      <th>part_depend</th>\n",
       "      <th>fiber</th>\n",
       "    </tr>\n",
       "  </thead>\n",
       "  <tbody>\n",
       "    <tr>\n",
       "      <th>count</th>\n",
       "      <td>3937.000000</td>\n",
       "      <td>3937.000000</td>\n",
       "      <td>3937.000000</td>\n",
       "      <td>3937.000000</td>\n",
       "      <td>3937.000000</td>\n",
       "      <td>3937.000000</td>\n",
       "      <td>3937.000000</td>\n",
       "      <td>3937.000000</td>\n",
       "      <td>3937.000000</td>\n",
       "      <td>3937.000000</td>\n",
       "      <td>...</td>\n",
       "      <td>3937.000000</td>\n",
       "      <td>3937.000000</td>\n",
       "      <td>3937.000000</td>\n",
       "      <td>3937.000000</td>\n",
       "      <td>3937.000000</td>\n",
       "      <td>3937.000000</td>\n",
       "      <td>3937.000000</td>\n",
       "      <td>3937.000000</td>\n",
       "      <td>3937.000000</td>\n",
       "      <td>3937.000000</td>\n",
       "    </tr>\n",
       "    <tr>\n",
       "      <th>mean</th>\n",
       "      <td>2.315723</td>\n",
       "      <td>1.696977</td>\n",
       "      <td>1.872746</td>\n",
       "      <td>0.506477</td>\n",
       "      <td>0.160528</td>\n",
       "      <td>0.480061</td>\n",
       "      <td>0.300737</td>\n",
       "      <td>32.560579</td>\n",
       "      <td>0.903734</td>\n",
       "      <td>1.064008</td>\n",
       "      <td>...</td>\n",
       "      <td>1.165862</td>\n",
       "      <td>0.594107</td>\n",
       "      <td>64.378004</td>\n",
       "      <td>2272.043320</td>\n",
       "      <td>0.264669</td>\n",
       "      <td>0.433325</td>\n",
       "      <td>0.417577</td>\n",
       "      <td>2.713152</td>\n",
       "      <td>0.780798</td>\n",
       "      <td>0.433833</td>\n",
       "    </tr>\n",
       "    <tr>\n",
       "      <th>std</th>\n",
       "      <td>1.156960</td>\n",
       "      <td>0.830304</td>\n",
       "      <td>0.741696</td>\n",
       "      <td>0.500022</td>\n",
       "      <td>0.367142</td>\n",
       "      <td>0.499666</td>\n",
       "      <td>0.458637</td>\n",
       "      <td>24.326705</td>\n",
       "      <td>0.294993</td>\n",
       "      <td>0.706364</td>\n",
       "      <td>...</td>\n",
       "      <td>0.759876</td>\n",
       "      <td>0.491126</td>\n",
       "      <td>30.219484</td>\n",
       "      <td>2244.982546</td>\n",
       "      <td>0.441213</td>\n",
       "      <td>0.495597</td>\n",
       "      <td>0.493222</td>\n",
       "      <td>2.027554</td>\n",
       "      <td>0.816781</td>\n",
       "      <td>0.495666</td>\n",
       "    </tr>\n",
       "    <tr>\n",
       "      <th>min</th>\n",
       "      <td>1.000000</td>\n",
       "      <td>1.000000</td>\n",
       "      <td>1.000000</td>\n",
       "      <td>0.000000</td>\n",
       "      <td>0.000000</td>\n",
       "      <td>0.000000</td>\n",
       "      <td>0.000000</td>\n",
       "      <td>1.000000</td>\n",
       "      <td>0.000000</td>\n",
       "      <td>0.000000</td>\n",
       "      <td>...</td>\n",
       "      <td>0.000000</td>\n",
       "      <td>0.000000</td>\n",
       "      <td>18.400000</td>\n",
       "      <td>18.850000</td>\n",
       "      <td>0.000000</td>\n",
       "      <td>0.000000</td>\n",
       "      <td>0.000000</td>\n",
       "      <td>0.080000</td>\n",
       "      <td>0.000000</td>\n",
       "      <td>0.000000</td>\n",
       "    </tr>\n",
       "    <tr>\n",
       "      <th>25%</th>\n",
       "      <td>1.000000</td>\n",
       "      <td>1.000000</td>\n",
       "      <td>1.000000</td>\n",
       "      <td>0.000000</td>\n",
       "      <td>0.000000</td>\n",
       "      <td>0.000000</td>\n",
       "      <td>0.000000</td>\n",
       "      <td>9.000000</td>\n",
       "      <td>1.000000</td>\n",
       "      <td>1.000000</td>\n",
       "      <td>...</td>\n",
       "      <td>1.000000</td>\n",
       "      <td>0.000000</td>\n",
       "      <td>35.000000</td>\n",
       "      <td>408.500000</td>\n",
       "      <td>0.000000</td>\n",
       "      <td>0.000000</td>\n",
       "      <td>0.000000</td>\n",
       "      <td>0.750000</td>\n",
       "      <td>0.000000</td>\n",
       "      <td>0.000000</td>\n",
       "    </tr>\n",
       "    <tr>\n",
       "      <th>50%</th>\n",
       "      <td>2.000000</td>\n",
       "      <td>1.000000</td>\n",
       "      <td>2.000000</td>\n",
       "      <td>1.000000</td>\n",
       "      <td>0.000000</td>\n",
       "      <td>0.000000</td>\n",
       "      <td>0.000000</td>\n",
       "      <td>29.000000</td>\n",
       "      <td>1.000000</td>\n",
       "      <td>1.000000</td>\n",
       "      <td>...</td>\n",
       "      <td>1.000000</td>\n",
       "      <td>1.000000</td>\n",
       "      <td>70.100000</td>\n",
       "      <td>1398.600000</td>\n",
       "      <td>0.000000</td>\n",
       "      <td>0.000000</td>\n",
       "      <td>0.000000</td>\n",
       "      <td>2.420000</td>\n",
       "      <td>1.000000</td>\n",
       "      <td>0.000000</td>\n",
       "    </tr>\n",
       "    <tr>\n",
       "      <th>75%</th>\n",
       "      <td>3.000000</td>\n",
       "      <td>2.000000</td>\n",
       "      <td>2.000000</td>\n",
       "      <td>1.000000</td>\n",
       "      <td>0.000000</td>\n",
       "      <td>1.000000</td>\n",
       "      <td>1.000000</td>\n",
       "      <td>55.000000</td>\n",
       "      <td>1.000000</td>\n",
       "      <td>2.000000</td>\n",
       "      <td>...</td>\n",
       "      <td>2.000000</td>\n",
       "      <td>1.000000</td>\n",
       "      <td>89.850000</td>\n",
       "      <td>3751.150000</td>\n",
       "      <td>1.000000</td>\n",
       "      <td>1.000000</td>\n",
       "      <td>1.000000</td>\n",
       "      <td>4.580000</td>\n",
       "      <td>1.000000</td>\n",
       "      <td>1.000000</td>\n",
       "    </tr>\n",
       "    <tr>\n",
       "      <th>max</th>\n",
       "      <td>4.000000</td>\n",
       "      <td>3.000000</td>\n",
       "      <td>3.000000</td>\n",
       "      <td>1.000000</td>\n",
       "      <td>1.000000</td>\n",
       "      <td>1.000000</td>\n",
       "      <td>1.000000</td>\n",
       "      <td>72.000000</td>\n",
       "      <td>1.000000</td>\n",
       "      <td>2.000000</td>\n",
       "      <td>...</td>\n",
       "      <td>2.000000</td>\n",
       "      <td>1.000000</td>\n",
       "      <td>118.750000</td>\n",
       "      <td>8684.800000</td>\n",
       "      <td>1.000000</td>\n",
       "      <td>1.000000</td>\n",
       "      <td>1.000000</td>\n",
       "      <td>6.000000</td>\n",
       "      <td>2.000000</td>\n",
       "      <td>1.000000</td>\n",
       "    </tr>\n",
       "  </tbody>\n",
       "</table>\n",
       "<p>8 rows × 24 columns</p>\n",
       "</div>"
      ],
      "text/plain": [
       "       payment_type_id  contract_type_id  internet_service_type_id  \\\n",
       "count      3937.000000       3937.000000               3937.000000   \n",
       "mean          2.315723          1.696977                  1.872746   \n",
       "std           1.156960          0.830304                  0.741696   \n",
       "min           1.000000          1.000000                  1.000000   \n",
       "25%           1.000000          1.000000                  1.000000   \n",
       "50%           2.000000          1.000000                  2.000000   \n",
       "75%           3.000000          2.000000                  2.000000   \n",
       "max           4.000000          3.000000                  3.000000   \n",
       "\n",
       "              male  senior_citizen      partner   dependents  monthly_tenure  \\\n",
       "count  3937.000000     3937.000000  3937.000000  3937.000000     3937.000000   \n",
       "mean      0.506477        0.160528     0.480061     0.300737       32.560579   \n",
       "std       0.500022        0.367142     0.499666     0.458637       24.326705   \n",
       "min       0.000000        0.000000     0.000000     0.000000        1.000000   \n",
       "25%       0.000000        0.000000     0.000000     0.000000        9.000000   \n",
       "50%       1.000000        0.000000     0.000000     0.000000       29.000000   \n",
       "75%       1.000000        0.000000     1.000000     1.000000       55.000000   \n",
       "max       1.000000        1.000000     1.000000     1.000000       72.000000   \n",
       "\n",
       "       phone_service  online_security  ...  streaming_movies  \\\n",
       "count    3937.000000      3937.000000  ...       3937.000000   \n",
       "mean        0.903734         1.064008  ...          1.165862   \n",
       "std         0.294993         0.706364  ...          0.759876   \n",
       "min         0.000000         0.000000  ...          0.000000   \n",
       "25%         1.000000         1.000000  ...          1.000000   \n",
       "50%         1.000000         1.000000  ...          1.000000   \n",
       "75%         1.000000         2.000000  ...          2.000000   \n",
       "max         1.000000         2.000000  ...          2.000000   \n",
       "\n",
       "       paperless_billing  monthly_charges  total_charges        churn  \\\n",
       "count        3937.000000      3937.000000    3937.000000  3937.000000   \n",
       "mean            0.594107        64.378004    2272.043320     0.264669   \n",
       "std             0.491126        30.219484    2244.982546     0.441213   \n",
       "min             0.000000        18.400000      18.850000     0.000000   \n",
       "25%             0.000000        35.000000     408.500000     0.000000   \n",
       "50%             1.000000        70.100000    1398.600000     0.000000   \n",
       "75%             1.000000        89.850000    3751.150000     1.000000   \n",
       "max             1.000000       118.750000    8684.800000     1.000000   \n",
       "\n",
       "       is_automatic_payment  phone_lines  yearly_tenure  part_depend  \\\n",
       "count           3937.000000  3937.000000    3937.000000  3937.000000   \n",
       "mean               0.433325     0.417577       2.713152     0.780798   \n",
       "std                0.495597     0.493222       2.027554     0.816781   \n",
       "min                0.000000     0.000000       0.080000     0.000000   \n",
       "25%                0.000000     0.000000       0.750000     0.000000   \n",
       "50%                0.000000     0.000000       2.420000     1.000000   \n",
       "75%                1.000000     1.000000       4.580000     1.000000   \n",
       "max                1.000000     1.000000       6.000000     2.000000   \n",
       "\n",
       "             fiber  \n",
       "count  3937.000000  \n",
       "mean      0.433833  \n",
       "std       0.495666  \n",
       "min       0.000000  \n",
       "25%       0.000000  \n",
       "50%       0.000000  \n",
       "75%       1.000000  \n",
       "max       1.000000  \n",
       "\n",
       "[8 rows x 24 columns]"
      ]
     },
     "execution_count": 9,
     "metadata": {},
     "output_type": "execute_result"
    }
   ],
   "source": [
    "train.describe()"
   ]
  },
  {
   "cell_type": "markdown",
   "metadata": {},
   "source": [
    "### Takeaways\n",
    "There is about a 26% churn rate \n",
    "There is roughly a 50% split on gender\n",
    "90% of our customers have phone service\n",
    "Only 16% of this data set is seniors"
   ]
  },
  {
   "cell_type": "markdown",
   "metadata": {},
   "source": [
    "### Exploration"
   ]
  },
  {
   "cell_type": "code",
   "execution_count": 10,
   "metadata": {},
   "outputs": [
    {
     "data": {
      "text/plain": [
       "<matplotlib.axes._subplots.AxesSubplot at 0x7ff6f9e3dc10>"
      ]
     },
     "execution_count": 10,
     "metadata": {},
     "output_type": "execute_result"
    },
    {
     "data": {
      "image/png": "[encoded data removed]",
      "text/plain": [
       "<Figure size 936x648 with 2 Axes>"
      ]
     },
     "metadata": {
      "needs_background": "light"
     },
     "output_type": "display_data"
    }
   ],
   "source": [
    "# Creating a heat map will show each features correlation to each other\n",
    "# The most import section is how churn correlates to everything else\n",
    "corr = train.corr()\n",
    "\n",
    "mask = np.triu(np.ones_like(corr, dtype=bool))\n",
    "f, ax = plt.subplots(figsize=[13, 9])\n",
    "cmap = sns.diverging_palette(230, 20, as_cmap=True)\n",
    "sns.heatmap(corr, mask=mask, cmap=cmap, vmax=.4, center=0, square=True, linewidths=.5, cbar_kws={'shrink': .5})"
   ]
  },
  {
   "cell_type": "markdown",
   "metadata": {},
   "source": [
    "- The highest correlations are the darker blue or red colors.\n",
    "- The darkest colors for churn are payment_type, contract_type, monthly_tenure, monthly_charges, and total_charges.\n",
    "- We will be ignoring contract type because we can't change contracts\n",
    "    - while tenure is on there that can only be increased by convincing customers to stay with us for longer\n",
    "    - total charges falls under the same line as tenure\n",
    "\n",
    "- I will be looking into payment_type and monthly_charges\n",
    "- monthly charges seems to be correlated with internet service type\n",
    "    - whether or not a customer had fiber optic internet or not seems to correlate strongly with monthly charges"
   ]
  },
  {
   "cell_type": "markdown",
   "metadata": {},
   "source": [
    "### Monthly Charges"
   ]
  },
  {
   "cell_type": "code",
   "execution_count": 11,
   "metadata": {},
   "outputs": [
    {
     "data": {
      "text/plain": [
       "Text(0.5, 1.0, 'Non Churned Customers')"
      ]
     },
     "execution_count": 11,
     "metadata": {},
     "output_type": "execute_result"
    },
    {
     "data": {
      "image/png": "[encoded data removed]",
      "text/plain": [
       "<Figure size 1008x864 with 2 Axes>"
      ]
     },
     "metadata": {
      "needs_background": "light"
     },
     "output_type": "display_data"
    }
   ],
   "source": [
    "# Setting figure size\n",
    "plt.figure(figsize=(14, 12))\n",
    "\n",
    "# plot churned customer monthly charges\n",
    "plt.subplot(221)\n",
    "churned_charges = train[train.churn == 1].monthly_charges\n",
    "churned_charges.hist(color='firebrick')\n",
    "plt.xlabel('Monthly Charge', fontsize=15)\n",
    "plt.ylabel('# of Customers', fontsize=15)\n",
    "plt.title('Churned Customers', fontsize=20)\n",
    "\n",
    "# plot non churned customer monthly charges\n",
    "plt.subplot(222)\n",
    "nonchurned_charges = train[train.churn == 0].monthly_charges\n",
    "nonchurned_charges.hist(color='blue')\n",
    "plt.xlabel('Monthly Charge', fontsize=15)\n",
    "plt.ylabel('# of Customers')\n",
    "plt.title('Non Churned Customers', fontsize=20)"
   ]
  },
  {
   "cell_type": "markdown",
   "metadata": {},
   "source": [
    "It seems customers who have churned paid more per month on average than customers that are still with the company."
   ]
  },
  {
   "cell_type": "markdown",
   "metadata": {},
   "source": [
    "### Hypothesis Test"
   ]
  },
  {
   "cell_type": "markdown",
   "metadata": {},
   "source": [
    "### Monthly Charges"
   ]
  },
  {
   "cell_type": "markdown",
   "metadata": {},
   "source": [
    "H0: Churned customer average monthly charges are <= non churned customer average monthly charges  \n",
    "Ha: Churned customer average monthly charges are > non churned customer average monthly charges"
   ]
  },
  {
   "cell_type": "code",
   "execution_count": 12,
   "metadata": {},
   "outputs": [
    {
     "name": "stdout",
     "output_type": "stream",
     "text": [
      "t: 13.358066071259712\n",
      "p: 1.620739508721089e-39\n"
     ]
    }
   ],
   "source": [
    "# Running a one tailed two sample t-test to test hypothesis\n",
    "# alpha is set to .05\n",
    "\n",
    "# we created dataframes already that contain churned and non churned customer monthly charges when plotting\n",
    "# churned_charges and nonchurned_charges\n",
    "\n",
    "# run t-test\n",
    "t, p = stats.ttest_ind(churned_charges, nonchurned_charges, equal_var=False)\n",
    "\n",
    "# printing results\n",
    "print(f't: {t}')\n",
    "print(f'p: {p/2}')"
   ]
  },
  {
   "cell_type": "markdown",
   "metadata": {},
   "source": [
    "Because t > 0 and p/2 < alpha we reject the null hypothesis.  \n",
    "This means that churned customers are on average paying more than customers who haven't churned as we found in the histograms.  \n",
    "The difference in prices might be on of the driving factors of churn."
   ]
  },
  {
   "cell_type": "markdown",
   "metadata": {},
   "source": [
    "### Automatic Payment"
   ]
  },
  {
   "cell_type": "code",
   "execution_count": 13,
   "metadata": {},
   "outputs": [
    {
     "data": {
      "text/plain": [
       "Text(0.5, 1.0, 'Automatic Paying Customers')"
      ]
     },
     "execution_count": 13,
     "metadata": {},
     "output_type": "execute_result"
    },
    {
     "data": {
      "image/png": "[encoded data removed]",
      "text/plain": [
       "<Figure size 1008x864 with 2 Axes>"
      ]
     },
     "metadata": {
      "needs_background": "light"
     },
     "output_type": "display_data"
    }
   ],
   "source": [
    "plt.figure(figsize=(14,12))\n",
    "\n",
    "plt.subplot(221)\n",
    "manual_plans = train[train.is_automatic_payment == 0].monthly_tenure\n",
    "manual_plans.hist(color='firebrick')\n",
    "plt.xlabel('Monthly Tenure', fontsize=15)\n",
    "plt.ylabel('# of Customers', fontsize=15)\n",
    "plt.title('Manual Paying Customers', fontsize=20)\n",
    "\n",
    "plt.subplot(222)\n",
    "automatic_plans = train[train.is_automatic_payment == 1].monthly_tenure\n",
    "automatic_plans.hist(color='blue')\n",
    "plt.xlabel('Monthly Tenure', fontsize=15)\n",
    "plt.ylabel('# of Customers', fontsize=15)\n",
    "plt.title('Automatic Paying Customers', fontsize=20)"
   ]
  },
  {
   "cell_type": "markdown",
   "metadata": {},
   "source": [
    "It seems from these plots that customers on automatic payment plans stay longer with the company on average."
   ]
  },
  {
   "cell_type": "markdown",
   "metadata": {},
   "source": [
    "HO: A customer having their payment plan be automatic has no effect on how long they stay with the company.  \n",
    "Ha: A customer stays longer with the company on average with an automatic payment plan."
   ]
  },
  {
   "cell_type": "code",
   "execution_count": 14,
   "metadata": {},
   "outputs": [
    {
     "name": "stdout",
     "output_type": "stream",
     "text": [
      "t: 27.026729933108832\n",
      "p: 6.836884909023058e-147\n"
     ]
    }
   ],
   "source": [
    "# Running a one tailed two sample t-test to test hypothesis\n",
    "# alpha is set to .05\n",
    "# run t-test\n",
    "t, p = stats.ttest_ind(automatic_plans, manual_plans, equal_var = False)\n",
    "\n",
    "# print results\n",
    "print(f't: {t}')\n",
    "print(f'p: {p/2}')"
   ]
  },
  {
   "cell_type": "markdown",
   "metadata": {},
   "source": [
    "Because t > 0 and p/2 < alpha we reject the null hypothesis.  \n",
    "This means that customers with automatic payment plans are infact more likely to stay with the company for longer.  \n",
    "This could simply be because of the convenience as well as customers being more likely to keep their plans if they aren't manually sending checks every time they pay."
   ]
  },
  {
   "cell_type": "markdown",
   "metadata": {},
   "source": [
    "### Fiber Optic"
   ]
  },
  {
   "cell_type": "code",
   "execution_count": 15,
   "metadata": {},
   "outputs": [
    {
     "data": {
      "text/plain": [
       "Text(0.5, 1.0, 'Non Fiber Paying Customers')"
      ]
     },
     "execution_count": 15,
     "metadata": {},
     "output_type": "execute_result"
    },
    {
     "data": {
      "image/png": "[encoded data removed]",
      "text/plain": [
       "<Figure size 1008x864 with 2 Axes>"
      ]
     },
     "metadata": {
      "needs_background": "light"
     },
     "output_type": "display_data"
    }
   ],
   "source": [
    "plt.figure(figsize=(14,12))\n",
    "\n",
    "plt.subplot(221)\n",
    "fiber_plans = train[train.fiber == 1].churn\n",
    "fiber_plans.hist(color='firebrick')\n",
    "plt.xlabel('Churned', fontsize=15)\n",
    "plt.ylabel('# of Customers', fontsize=15)\n",
    "plt.title('Fiber Paying Customers', fontsize=20)\n",
    "\n",
    "plt.subplot(222)\n",
    "nonfiber_plans = train[train.fiber == 0].churn\n",
    "nonfiber_plans.hist(color='blue')\n",
    "plt.xlabel('Churned', fontsize=15)\n",
    "plt.ylabel('# of Customers', fontsize=15)\n",
    "plt.title('Non Fiber Paying Customers', fontsize=20)"
   ]
  },
  {
   "cell_type": "markdown",
   "metadata": {},
   "source": [
    "It seems from these plots that customers that pay for fiber optic are more likely to churn that customers that aren't."
   ]
  },
  {
   "cell_type": "markdown",
   "metadata": {},
   "source": [
    "HO: A customer that has the fiber optic plan is not any more likely to churn than customers that don't have the fiber optic plan  \n",
    "Ha: A customer that has the fiber optic plan is more likely to churn than customers that don't have the fiber optic plan"
   ]
  },
  {
   "cell_type": "code",
   "execution_count": 32,
   "metadata": {},
   "outputs": [
    {
     "name": "stdout",
     "output_type": "stream",
     "text": [
      "Crosstab of churn and fiber:\n",
      "\n",
      " fiber     0    1\n",
      "churn           \n",
      "0      1900  995\n",
      "1       329  713\n",
      "p: 2.2724715071264876e-80\n"
     ]
    }
   ],
   "source": [
    "# Both fiber and churn are categorical variables\n",
    "# We will be using a chi square test to test the hypothesis\n",
    "\n",
    "# alpha is set to .05\n",
    "\n",
    "table = pd.crosstab(train.churn, train.fiber)\n",
    "print('Crosstab of churn and fiber:\\n\\n',table)\n",
    "\n",
    "chi2, p, degf, expected = stats.chi2_contingency(table)\n",
    "\n",
    "print(f'p: {p}')"
   ]
  },
  {
   "cell_type": "markdown",
   "metadata": {},
   "source": [
    "Because p < alpha we reject the null hypothesis.  \n",
    "This means that customers with fiber plans are in fact more likely to churn than those that aren't on fiber plans."
   ]
  },
  {
   "cell_type": "markdown",
   "metadata": {},
   "source": [
    "### Overall Eploration Takeaways  \n",
    "Monthly charges seems to have an effect on whether a customer is more likely to churn or not.  \n",
    "Whether a customer pays through an automatic payment plan or a manual plan seems to effect how long they stay with the company."
   ]
  },
  {
   "cell_type": "markdown",
   "metadata": {},
   "source": [
    "## Modeling\n",
    "We will be using the monthly charges and is automatic variables to create our models.  \n",
    "Because our main goal is to predict whether a customer churns or not and we aren't all too worried about false positive/false negatives we are going to be looking at accuracy as our most important metric."
   ]
  },
  {
   "cell_type": "markdown",
   "metadata": {},
   "source": [
    "### Baseline\n",
    "First up we will need a baseline to compare our models accuracy to just simply guessing."
   ]
  },
  {
   "cell_type": "code",
   "execution_count": 17,
   "metadata": {},
   "outputs": [
    {
     "data": {
      "text/html": [
       "<div>\n",
       "<style scoped>\n",
       "    .dataframe tbody tr th:only-of-type {\n",
       "        vertical-align: middle;\n",
       "    }\n",
       "\n",
       "    .dataframe tbody tr th {\n",
       "        vertical-align: top;\n",
       "    }\n",
       "\n",
       "    .dataframe thead th {\n",
       "        text-align: right;\n",
       "    }\n",
       "</style>\n",
       "<table border=\"1\" class=\"dataframe\">\n",
       "  <thead>\n",
       "    <tr style=\"text-align: right;\">\n",
       "      <th></th>\n",
       "      <th>payment_type_id</th>\n",
       "      <th>contract_type_id</th>\n",
       "      <th>internet_service_type_id</th>\n",
       "      <th>customer_id</th>\n",
       "      <th>male</th>\n",
       "      <th>senior_citizen</th>\n",
       "      <th>partner</th>\n",
       "      <th>dependents</th>\n",
       "      <th>monthly_tenure</th>\n",
       "      <th>phone_service</th>\n",
       "      <th>...</th>\n",
       "      <th>churn</th>\n",
       "      <th>internet_service_type</th>\n",
       "      <th>contract_type</th>\n",
       "      <th>payment_type</th>\n",
       "      <th>is_automatic_payment</th>\n",
       "      <th>phone_lines</th>\n",
       "      <th>yearly_tenure</th>\n",
       "      <th>part_depend</th>\n",
       "      <th>fiber</th>\n",
       "      <th>baseline_prediction</th>\n",
       "    </tr>\n",
       "  </thead>\n",
       "  <tbody>\n",
       "    <tr>\n",
       "      <th>5399</th>\n",
       "      <td>4</td>\n",
       "      <td>3</td>\n",
       "      <td>1</td>\n",
       "      <td>0757-WCUUZ</td>\n",
       "      <td>1</td>\n",
       "      <td>0</td>\n",
       "      <td>1</td>\n",
       "      <td>1</td>\n",
       "      <td>54</td>\n",
       "      <td>1</td>\n",
       "      <td>...</td>\n",
       "      <td>0</td>\n",
       "      <td>DSL</td>\n",
       "      <td>Two year</td>\n",
       "      <td>Credit card (automatic)</td>\n",
       "      <td>1</td>\n",
       "      <td>1</td>\n",
       "      <td>4.5</td>\n",
       "      <td>2</td>\n",
       "      <td>0</td>\n",
       "      <td>0</td>\n",
       "    </tr>\n",
       "    <tr>\n",
       "      <th>2876</th>\n",
       "      <td>4</td>\n",
       "      <td>1</td>\n",
       "      <td>2</td>\n",
       "      <td>7603-USHJS</td>\n",
       "      <td>1</td>\n",
       "      <td>0</td>\n",
       "      <td>0</td>\n",
       "      <td>1</td>\n",
       "      <td>12</td>\n",
       "      <td>1</td>\n",
       "      <td>...</td>\n",
       "      <td>1</td>\n",
       "      <td>Fiber optic</td>\n",
       "      <td>Month-to-month</td>\n",
       "      <td>Credit card (automatic)</td>\n",
       "      <td>1</td>\n",
       "      <td>1</td>\n",
       "      <td>1.0</td>\n",
       "      <td>1</td>\n",
       "      <td>1</td>\n",
       "      <td>0</td>\n",
       "    </tr>\n",
       "    <tr>\n",
       "      <th>659</th>\n",
       "      <td>3</td>\n",
       "      <td>1</td>\n",
       "      <td>1</td>\n",
       "      <td>5311-IHLEI</td>\n",
       "      <td>1</td>\n",
       "      <td>0</td>\n",
       "      <td>0</td>\n",
       "      <td>0</td>\n",
       "      <td>12</td>\n",
       "      <td>0</td>\n",
       "      <td>...</td>\n",
       "      <td>0</td>\n",
       "      <td>DSL</td>\n",
       "      <td>Month-to-month</td>\n",
       "      <td>Bank transfer (automatic)</td>\n",
       "      <td>1</td>\n",
       "      <td>0</td>\n",
       "      <td>1.0</td>\n",
       "      <td>0</td>\n",
       "      <td>0</td>\n",
       "      <td>0</td>\n",
       "    </tr>\n",
       "    <tr>\n",
       "      <th>5843</th>\n",
       "      <td>3</td>\n",
       "      <td>3</td>\n",
       "      <td>1</td>\n",
       "      <td>7975-JMZNT</td>\n",
       "      <td>1</td>\n",
       "      <td>0</td>\n",
       "      <td>1</td>\n",
       "      <td>0</td>\n",
       "      <td>66</td>\n",
       "      <td>1</td>\n",
       "      <td>...</td>\n",
       "      <td>0</td>\n",
       "      <td>DSL</td>\n",
       "      <td>Two year</td>\n",
       "      <td>Bank transfer (automatic)</td>\n",
       "      <td>1</td>\n",
       "      <td>1</td>\n",
       "      <td>5.5</td>\n",
       "      <td>1</td>\n",
       "      <td>0</td>\n",
       "      <td>0</td>\n",
       "    </tr>\n",
       "    <tr>\n",
       "      <th>2229</th>\n",
       "      <td>2</td>\n",
       "      <td>1</td>\n",
       "      <td>2</td>\n",
       "      <td>4660-IRIBM</td>\n",
       "      <td>1</td>\n",
       "      <td>0</td>\n",
       "      <td>1</td>\n",
       "      <td>1</td>\n",
       "      <td>18</td>\n",
       "      <td>1</td>\n",
       "      <td>...</td>\n",
       "      <td>0</td>\n",
       "      <td>Fiber optic</td>\n",
       "      <td>Month-to-month</td>\n",
       "      <td>Mailed check</td>\n",
       "      <td>0</td>\n",
       "      <td>0</td>\n",
       "      <td>1.5</td>\n",
       "      <td>2</td>\n",
       "      <td>1</td>\n",
       "      <td>0</td>\n",
       "    </tr>\n",
       "  </tbody>\n",
       "</table>\n",
       "<p>5 rows × 30 columns</p>\n",
       "</div>"
      ],
      "text/plain": [
       "      payment_type_id  contract_type_id  internet_service_type_id customer_id  \\\n",
       "5399                4                 3                         1  0757-WCUUZ   \n",
       "2876                4                 1                         2  7603-USHJS   \n",
       "659                 3                 1                         1  5311-IHLEI   \n",
       "5843                3                 3                         1  7975-JMZNT   \n",
       "2229                2                 1                         2  4660-IRIBM   \n",
       "\n",
       "      male  senior_citizen  partner  dependents  monthly_tenure  \\\n",
       "5399     1               0        1           1              54   \n",
       "2876     1               0        0           1              12   \n",
       "659      1               0        0           0              12   \n",
       "5843     1               0        1           0              66   \n",
       "2229     1               0        1           1              18   \n",
       "\n",
       "      phone_service  ... churn  internet_service_type   contract_type  \\\n",
       "5399              1  ...     0                    DSL        Two year   \n",
       "2876              1  ...     1            Fiber optic  Month-to-month   \n",
       "659               0  ...     0                    DSL  Month-to-month   \n",
       "5843              1  ...     0                    DSL        Two year   \n",
       "2229              1  ...     0            Fiber optic  Month-to-month   \n",
       "\n",
       "                   payment_type  is_automatic_payment  phone_lines  \\\n",
       "5399    Credit card (automatic)                     1            1   \n",
       "2876    Credit card (automatic)                     1            1   \n",
       "659   Bank transfer (automatic)                     1            0   \n",
       "5843  Bank transfer (automatic)                     1            1   \n",
       "2229               Mailed check                     0            0   \n",
       "\n",
       "      yearly_tenure  part_depend  fiber  baseline_prediction  \n",
       "5399            4.5            2      0                    0  \n",
       "2876            1.0            1      1                    0  \n",
       "659             1.0            0      0                    0  \n",
       "5843            5.5            1      0                    0  \n",
       "2229            1.5            2      1                    0  \n",
       "\n",
       "[5 rows x 30 columns]"
      ]
     },
     "execution_count": 17,
     "metadata": {},
     "output_type": "execute_result"
    }
   ],
   "source": [
    "# Create new baseline df so we don't mess with any data on the original df\n",
    "train_baseline = train\n",
    "# Create new column on baseline df that has predicts that no one will churn because that is the most common value.\n",
    "train_baseline['baseline_prediction'] = 0\n",
    "train_baseline.head(5)"
   ]
  },
  {
   "cell_type": "code",
   "execution_count": 18,
   "metadata": {},
   "outputs": [
    {
     "name": "stdout",
     "output_type": "stream",
     "text": [
      "Accuracy of baseline model: 74.0%\n"
     ]
    }
   ],
   "source": [
    "# calculate accuracy of the baseline model\n",
    "base_acc = round((train_baseline['baseline_prediction'] == train_baseline['churn']).mean(), 2)\n",
    "print(f'Accuracy of baseline model: {base_acc * 100}%')"
   ]
  },
  {
   "cell_type": "markdown",
   "metadata": {},
   "source": [
    "### Training Models\n",
    "We are looking for models that beat the baseline accuracy of 74%"
   ]
  },
  {
   "cell_type": "markdown",
   "metadata": {},
   "source": [
    "### Model 1\n",
    "**Type:** Logistic Regression  \n",
    "\n",
    "**Features:**\n",
    "- is_automatic_payment\n",
    "-  monthly_charges  \n",
    "- fiber\n",
    "\n",
    "\n",
    "**Hyper Parameters:**\n",
    "- We will be using the basic parameters"
   ]
  },
  {
   "cell_type": "code",
   "execution_count": 37,
   "metadata": {},
   "outputs": [],
   "source": [
    "# Create dfs with selected features for logistic regression model\n",
    "X_train1 = train[['is_automatic_payment', 'monthly_charges', 'fiber']]\n",
    "y_train = train.churn\n",
    "\n",
    "# Create and fit logistic regression model\n",
    "m1_logit = LogisticRegression(random_state=123)\n",
    "m1_logit = m1_logit.fit(X_train1, y_train)\n",
    "\n",
    "m1_pred = pd.DataFrame(m1_logit.predict(X_train1))"
   ]
  },
  {
   "cell_type": "code",
   "execution_count": 38,
   "metadata": {},
   "outputs": [
    {
     "name": "stdout",
     "output_type": "stream",
     "text": [
      "              precision    recall  f1-score   support\n",
      "\n",
      "           0       0.80      0.89      0.84      2895\n",
      "           1       0.56      0.39      0.46      1042\n",
      "\n",
      "    accuracy                           0.76      3937\n",
      "   macro avg       0.68      0.64      0.65      3937\n",
      "weighted avg       0.74      0.76      0.74      3937\n",
      "\n",
      "[[2572  323]\n",
      " [ 634  408]]\n"
     ]
    }
   ],
   "source": [
    "# Check to see how the model does in its predictions\n",
    "print(classification_report(y_train, m1_pred))\n",
    "print(confusion_matrix(y_train, m1_pred))"
   ]
  },
  {
   "cell_type": "markdown",
   "metadata": {},
   "source": [
    "Model 1 is slightly more accurate than the baseline model with a 76% accuracy.  \n",
    "This model will move on to validate to test if it is better."
   ]
  },
  {
   "cell_type": "markdown",
   "metadata": {},
   "source": [
    "### Model 2  \n",
    "**Type:** Random Forest  \n",
    "\n",
    "**Features:**\n",
    "- is_automatic_payment\n",
    "- monthly charges\n",
    "- fiber\n",
    "\n",
    "**HyperParameters:**\n",
    "- n_estimators = 100\n",
    "- max_depth = 12\n",
    "- min_samples_leaf = 1"
   ]
  },
  {
   "cell_type": "code",
   "execution_count": 81,
   "metadata": {},
   "outputs": [],
   "source": [
    "# Because we are using the same features as model 1 we will just use that models X and y\n",
    "# Create and fit random forest model\n",
    "m2_rf = RandomForestClassifier(n_estimators=100, max_depth=12, min_samples_leaf=1, random_state=123)\n",
    "m2_rf = m2_rf.fit(X_train1, y_train)\n",
    "\n",
    "m2_pred = pd.DataFrame(m2_rf.predict(X_train1))"
   ]
  },
  {
   "cell_type": "code",
   "execution_count": 82,
   "metadata": {},
   "outputs": [
    {
     "name": "stdout",
     "output_type": "stream",
     "text": [
      "              precision    recall  f1-score   support\n",
      "\n",
      "           0       0.85      0.94      0.90      2895\n",
      "           1       0.78      0.55      0.65      1042\n",
      "\n",
      "    accuracy                           0.84      3937\n",
      "   macro avg       0.82      0.75      0.77      3937\n",
      "weighted avg       0.83      0.84      0.83      3937\n",
      "\n",
      "[[2732  163]\n",
      " [ 467  575]]\n"
     ]
    }
   ],
   "source": [
    "print(classification_report(y_train, m2_pred))\n",
    "print(confusion_matrix(y_train, m2_pred))"
   ]
  },
  {
   "cell_type": "markdown",
   "metadata": {},
   "source": [
    "Model 2 is a little more accurate than the baseline at 84% accuracy. This comes out to about 10% more accurate than the baseline.  \n",
    "This model will move on to validate to test if it is better or just simply overfitting the training data."
   ]
  },
  {
   "cell_type": "markdown",
   "metadata": {},
   "source": [
    "### Model 3\n",
    "**Type:** Decision Tree  \n",
    "**Features:**\n",
    "- is_automatic_payment\n",
    "- monthly charges\n",
    "- fiber\n",
    "\n",
    "**HyperParameters:**\n",
    "- max_depth = 12"
   ]
  },
  {
   "cell_type": "code",
   "execution_count": 41,
   "metadata": {},
   "outputs": [],
   "source": [
    "m3_tree = DecisionTreeClassifier(max_depth=12, random_state=123)\n",
    "m3_tree = m3_tree.fit(X_train1, y_train)\n",
    "\n",
    "m3_pred = pd.DataFrame(m3_tree.predict(X_train1))"
   ]
  },
  {
   "cell_type": "code",
   "execution_count": 42,
   "metadata": {},
   "outputs": [
    {
     "name": "stdout",
     "output_type": "stream",
     "text": [
      "              precision    recall  f1-score   support\n",
      "\n",
      "           0       0.84      0.91      0.87      2895\n",
      "           1       0.67      0.53      0.59      1042\n",
      "\n",
      "    accuracy                           0.81      3937\n",
      "   macro avg       0.76      0.72      0.73      3937\n",
      "weighted avg       0.80      0.81      0.80      3937\n",
      "\n",
      "[[2629  266]\n",
      " [ 490  552]]\n"
     ]
    }
   ],
   "source": [
    "print(classification_report(y_train, m3_pred))\n",
    "print(confusion_matrix(y_train, m3_pred))"
   ]
  },
  {
   "cell_type": "markdown",
   "metadata": {},
   "source": [
    "Model 3 has a better accuracy than the baseline at 81%. This also comes out to being about 7% higher than the baseline.  \n",
    "This model will move on to validate to test if it is better or just simply overfitting the training data."
   ]
  },
  {
   "cell_type": "markdown",
   "metadata": {},
   "source": [
    "### Training Results\n",
    "- Baseline Model Accuracy: 74%\n",
    "- Model 1 Accuracy: 76%\n",
    "- Model 2 Accuracy: 79%\n",
    "- Model 3 Accuracy: 81%\n",
    "\n",
    "Models 2 and 3 are moving on to the validate phase"
   ]
  },
  {
   "cell_type": "markdown",
   "metadata": {},
   "source": [
    "## Modeling (Validation)"
   ]
  },
  {
   "cell_type": "markdown",
   "metadata": {},
   "source": [
    "### Model 1 (Logistic Regression)"
   ]
  },
  {
   "cell_type": "code",
   "execution_count": 49,
   "metadata": {},
   "outputs": [],
   "source": [
    "# Create dfs with selected features for validation data\n",
    "X_validate = validate[['is_automatic_payment', 'monthly_charges', 'fiber']]\n",
    "y_validate = validate.churn\n",
    "\n",
    "# make predictions on validation set\n",
    "m1_val_pred = pd.DataFrame(m1_logit.predict(X_validate))"
   ]
  },
  {
   "cell_type": "code",
   "execution_count": 50,
   "metadata": {},
   "outputs": [
    {
     "name": "stdout",
     "output_type": "stream",
     "text": [
      "              precision    recall  f1-score   support\n",
      "\n",
      "           0       0.81      0.88      0.84      1255\n",
      "           1       0.54      0.40      0.46       433\n",
      "\n",
      "    accuracy                           0.76      1688\n",
      "   macro avg       0.68      0.64      0.65      1688\n",
      "weighted avg       0.74      0.76      0.75      1688\n",
      "\n",
      "[[1107  148]\n",
      " [ 259  174]]\n"
     ]
    }
   ],
   "source": [
    "print(classification_report(y_validate, m1_val_pred))\n",
    "print(confusion_matrix(y_validate, m1_val_pred))"
   ]
  },
  {
   "cell_type": "markdown",
   "metadata": {},
   "source": [
    "### Model 2 (Random Forest)"
   ]
  },
  {
   "cell_type": "code",
   "execution_count": 83,
   "metadata": {},
   "outputs": [],
   "source": [
    "m2_val_pred = pd.DataFrame(m2_rf.predict(X_validate))"
   ]
  },
  {
   "cell_type": "code",
   "execution_count": 84,
   "metadata": {},
   "outputs": [
    {
     "name": "stdout",
     "output_type": "stream",
     "text": [
      "              precision    recall  f1-score   support\n",
      "\n",
      "           0       0.81      0.88      0.84      1255\n",
      "           1       0.53      0.39      0.45       433\n",
      "\n",
      "    accuracy                           0.76      1688\n",
      "   macro avg       0.67      0.64      0.65      1688\n",
      "weighted avg       0.74      0.76      0.74      1688\n",
      "\n",
      "[[1107  148]\n",
      " [ 264  169]]\n"
     ]
    }
   ],
   "source": [
    "print(classification_report(y_validate, m2_val_pred))\n",
    "print(confusion_matrix(y_validate, m2_val_pred))"
   ]
  },
  {
   "cell_type": "markdown",
   "metadata": {},
   "source": [
    "### Model 3 (Decision Tree)"
   ]
  },
  {
   "cell_type": "code",
   "execution_count": 45,
   "metadata": {},
   "outputs": [],
   "source": [
    "m3_val_pred = pd.DataFrame(m3_tree.predict(X_validate))"
   ]
  },
  {
   "cell_type": "code",
   "execution_count": 46,
   "metadata": {},
   "outputs": [
    {
     "name": "stdout",
     "output_type": "stream",
     "text": [
      "              precision    recall  f1-score   support\n",
      "\n",
      "           0       0.81      0.86      0.83      1255\n",
      "           1       0.51      0.42      0.46       433\n",
      "\n",
      "    accuracy                           0.75      1688\n",
      "   macro avg       0.66      0.64      0.65      1688\n",
      "weighted avg       0.73      0.75      0.74      1688\n",
      "\n",
      "[[1076  179]\n",
      " [ 249  184]]\n"
     ]
    }
   ],
   "source": [
    "print(classification_report(y_validate, m3_val_pred))\n",
    "print(confusion_matrix(y_validate, m3_val_pred))"
   ]
  },
  {
   "cell_type": "markdown",
   "metadata": {},
   "source": [
    "### Validation Takeaways\n",
    "- Model 1 Accuracy: 76%\n",
    "- Model 2 Accuracy: 76%\n",
    "- Model 3 Accuracy: 75%\n",
    "\n",
    "Because model 2 had such a big drop in accuracy from train to validate and it has the same accuracy in validation as model 1 I will be pushing model 1 to test as it has been more consistent."
   ]
  },
  {
   "cell_type": "code",
   "execution_count": 61,
   "metadata": {},
   "outputs": [],
   "source": [
    "X_test = test[['is_automatic_payment', 'monthly_charges', 'fiber']]\n",
    "y_test = test.churn\n",
    "\n",
    "m2_test_pred = pd.DataFrame(m1_logit.predict(X_test))"
   ]
  },
  {
   "cell_type": "code",
   "execution_count": 62,
   "metadata": {},
   "outputs": [
    {
     "name": "stdout",
     "output_type": "stream",
     "text": [
      "              precision    recall  f1-score   support\n",
      "\n",
      "           0       0.79      0.89      0.84      1013\n",
      "           1       0.59      0.40      0.48       394\n",
      "\n",
      "    accuracy                           0.75      1407\n",
      "   macro avg       0.69      0.65      0.66      1407\n",
      "weighted avg       0.73      0.75      0.74      1407\n",
      "\n",
      "[[901 112]\n",
      " [236 158]]\n"
     ]
    }
   ],
   "source": [
    "print(classification_report(y_test, m2_test_pred))\n",
    "print(confusion_matrix(y_test, m2_test_pred))"
   ]
  },
  {
   "cell_type": "markdown",
   "metadata": {},
   "source": [
    "### Testing Takeaways\n",
    "Model 1 has proven to be the best model, it beats the baseline and it can predict churn on unseen data with an accuracy of 75%"
   ]
  },
  {
   "cell_type": "markdown",
   "metadata": {},
   "source": [
    "## Predictions\n",
    "Now we will take model 1 and use it to make predictions on the entire original dataset to observe how it performs."
   ]
  },
  {
   "cell_type": "code",
   "execution_count": 86,
   "metadata": {},
   "outputs": [
    {
     "data": {
      "text/html": [
       "<div>\n",
       "<style scoped>\n",
       "    .dataframe tbody tr th:only-of-type {\n",
       "        vertical-align: middle;\n",
       "    }\n",
       "\n",
       "    .dataframe tbody tr th {\n",
       "        vertical-align: top;\n",
       "    }\n",
       "\n",
       "    .dataframe thead th {\n",
       "        text-align: right;\n",
       "    }\n",
       "</style>\n",
       "<table border=\"1\" class=\"dataframe\">\n",
       "  <thead>\n",
       "    <tr style=\"text-align: right;\">\n",
       "      <th></th>\n",
       "      <th>payment_type_id</th>\n",
       "      <th>contract_type_id</th>\n",
       "      <th>internet_service_type_id</th>\n",
       "      <th>customer_id</th>\n",
       "      <th>male</th>\n",
       "      <th>senior_citizen</th>\n",
       "      <th>partner</th>\n",
       "      <th>dependents</th>\n",
       "      <th>monthly_tenure</th>\n",
       "      <th>phone_service</th>\n",
       "      <th>...</th>\n",
       "      <th>churn</th>\n",
       "      <th>internet_service_type</th>\n",
       "      <th>contract_type</th>\n",
       "      <th>payment_type</th>\n",
       "      <th>is_automatic_payment</th>\n",
       "      <th>phone_lines</th>\n",
       "      <th>yearly_tenure</th>\n",
       "      <th>part_depend</th>\n",
       "      <th>fiber</th>\n",
       "      <th>baseline_prediction</th>\n",
       "    </tr>\n",
       "  </thead>\n",
       "  <tbody>\n",
       "    <tr>\n",
       "      <th>5399</th>\n",
       "      <td>4</td>\n",
       "      <td>3</td>\n",
       "      <td>1</td>\n",
       "      <td>0757-WCUUZ</td>\n",
       "      <td>1</td>\n",
       "      <td>0</td>\n",
       "      <td>1</td>\n",
       "      <td>1</td>\n",
       "      <td>54</td>\n",
       "      <td>1</td>\n",
       "      <td>...</td>\n",
       "      <td>0</td>\n",
       "      <td>DSL</td>\n",
       "      <td>Two year</td>\n",
       "      <td>Credit card (automatic)</td>\n",
       "      <td>1</td>\n",
       "      <td>1</td>\n",
       "      <td>4.50</td>\n",
       "      <td>2</td>\n",
       "      <td>0</td>\n",
       "      <td>0.0</td>\n",
       "    </tr>\n",
       "    <tr>\n",
       "      <th>2876</th>\n",
       "      <td>4</td>\n",
       "      <td>1</td>\n",
       "      <td>2</td>\n",
       "      <td>7603-USHJS</td>\n",
       "      <td>1</td>\n",
       "      <td>0</td>\n",
       "      <td>0</td>\n",
       "      <td>1</td>\n",
       "      <td>12</td>\n",
       "      <td>1</td>\n",
       "      <td>...</td>\n",
       "      <td>1</td>\n",
       "      <td>Fiber optic</td>\n",
       "      <td>Month-to-month</td>\n",
       "      <td>Credit card (automatic)</td>\n",
       "      <td>1</td>\n",
       "      <td>1</td>\n",
       "      <td>1.00</td>\n",
       "      <td>1</td>\n",
       "      <td>1</td>\n",
       "      <td>0.0</td>\n",
       "    </tr>\n",
       "    <tr>\n",
       "      <th>659</th>\n",
       "      <td>3</td>\n",
       "      <td>1</td>\n",
       "      <td>1</td>\n",
       "      <td>5311-IHLEI</td>\n",
       "      <td>1</td>\n",
       "      <td>0</td>\n",
       "      <td>0</td>\n",
       "      <td>0</td>\n",
       "      <td>12</td>\n",
       "      <td>0</td>\n",
       "      <td>...</td>\n",
       "      <td>0</td>\n",
       "      <td>DSL</td>\n",
       "      <td>Month-to-month</td>\n",
       "      <td>Bank transfer (automatic)</td>\n",
       "      <td>1</td>\n",
       "      <td>0</td>\n",
       "      <td>1.00</td>\n",
       "      <td>0</td>\n",
       "      <td>0</td>\n",
       "      <td>0.0</td>\n",
       "    </tr>\n",
       "    <tr>\n",
       "      <th>5843</th>\n",
       "      <td>3</td>\n",
       "      <td>3</td>\n",
       "      <td>1</td>\n",
       "      <td>7975-JMZNT</td>\n",
       "      <td>1</td>\n",
       "      <td>0</td>\n",
       "      <td>1</td>\n",
       "      <td>0</td>\n",
       "      <td>66</td>\n",
       "      <td>1</td>\n",
       "      <td>...</td>\n",
       "      <td>0</td>\n",
       "      <td>DSL</td>\n",
       "      <td>Two year</td>\n",
       "      <td>Bank transfer (automatic)</td>\n",
       "      <td>1</td>\n",
       "      <td>1</td>\n",
       "      <td>5.50</td>\n",
       "      <td>1</td>\n",
       "      <td>0</td>\n",
       "      <td>0.0</td>\n",
       "    </tr>\n",
       "    <tr>\n",
       "      <th>2229</th>\n",
       "      <td>2</td>\n",
       "      <td>1</td>\n",
       "      <td>2</td>\n",
       "      <td>4660-IRIBM</td>\n",
       "      <td>1</td>\n",
       "      <td>0</td>\n",
       "      <td>1</td>\n",
       "      <td>1</td>\n",
       "      <td>18</td>\n",
       "      <td>1</td>\n",
       "      <td>...</td>\n",
       "      <td>0</td>\n",
       "      <td>Fiber optic</td>\n",
       "      <td>Month-to-month</td>\n",
       "      <td>Mailed check</td>\n",
       "      <td>0</td>\n",
       "      <td>0</td>\n",
       "      <td>1.50</td>\n",
       "      <td>2</td>\n",
       "      <td>1</td>\n",
       "      <td>0.0</td>\n",
       "    </tr>\n",
       "    <tr>\n",
       "      <th>...</th>\n",
       "      <td>...</td>\n",
       "      <td>...</td>\n",
       "      <td>...</td>\n",
       "      <td>...</td>\n",
       "      <td>...</td>\n",
       "      <td>...</td>\n",
       "      <td>...</td>\n",
       "      <td>...</td>\n",
       "      <td>...</td>\n",
       "      <td>...</td>\n",
       "      <td>...</td>\n",
       "      <td>...</td>\n",
       "      <td>...</td>\n",
       "      <td>...</td>\n",
       "      <td>...</td>\n",
       "      <td>...</td>\n",
       "      <td>...</td>\n",
       "      <td>...</td>\n",
       "      <td>...</td>\n",
       "      <td>...</td>\n",
       "      <td>...</td>\n",
       "    </tr>\n",
       "    <tr>\n",
       "      <th>4275</th>\n",
       "      <td>2</td>\n",
       "      <td>2</td>\n",
       "      <td>1</td>\n",
       "      <td>6994-ORCWG</td>\n",
       "      <td>0</td>\n",
       "      <td>0</td>\n",
       "      <td>0</td>\n",
       "      <td>0</td>\n",
       "      <td>14</td>\n",
       "      <td>1</td>\n",
       "      <td>...</td>\n",
       "      <td>0</td>\n",
       "      <td>DSL</td>\n",
       "      <td>One year</td>\n",
       "      <td>Mailed check</td>\n",
       "      <td>0</td>\n",
       "      <td>1</td>\n",
       "      <td>1.17</td>\n",
       "      <td>0</td>\n",
       "      <td>0</td>\n",
       "      <td>NaN</td>\n",
       "    </tr>\n",
       "    <tr>\n",
       "      <th>2612</th>\n",
       "      <td>1</td>\n",
       "      <td>1</td>\n",
       "      <td>2</td>\n",
       "      <td>6372-RFVNS</td>\n",
       "      <td>0</td>\n",
       "      <td>0</td>\n",
       "      <td>1</td>\n",
       "      <td>0</td>\n",
       "      <td>1</td>\n",
       "      <td>1</td>\n",
       "      <td>...</td>\n",
       "      <td>1</td>\n",
       "      <td>Fiber optic</td>\n",
       "      <td>Month-to-month</td>\n",
       "      <td>Electronic check</td>\n",
       "      <td>0</td>\n",
       "      <td>0</td>\n",
       "      <td>0.08</td>\n",
       "      <td>1</td>\n",
       "      <td>1</td>\n",
       "      <td>NaN</td>\n",
       "    </tr>\n",
       "    <tr>\n",
       "      <th>2765</th>\n",
       "      <td>1</td>\n",
       "      <td>1</td>\n",
       "      <td>2</td>\n",
       "      <td>7137-RYLPP</td>\n",
       "      <td>1</td>\n",
       "      <td>1</td>\n",
       "      <td>1</td>\n",
       "      <td>0</td>\n",
       "      <td>37</td>\n",
       "      <td>1</td>\n",
       "      <td>...</td>\n",
       "      <td>1</td>\n",
       "      <td>Fiber optic</td>\n",
       "      <td>Month-to-month</td>\n",
       "      <td>Electronic check</td>\n",
       "      <td>0</td>\n",
       "      <td>1</td>\n",
       "      <td>3.08</td>\n",
       "      <td>1</td>\n",
       "      <td>1</td>\n",
       "      <td>NaN</td>\n",
       "    </tr>\n",
       "    <tr>\n",
       "      <th>4898</th>\n",
       "      <td>3</td>\n",
       "      <td>2</td>\n",
       "      <td>2</td>\n",
       "      <td>8329-UTMVM</td>\n",
       "      <td>1</td>\n",
       "      <td>1</td>\n",
       "      <td>0</td>\n",
       "      <td>0</td>\n",
       "      <td>27</td>\n",
       "      <td>1</td>\n",
       "      <td>...</td>\n",
       "      <td>0</td>\n",
       "      <td>Fiber optic</td>\n",
       "      <td>One year</td>\n",
       "      <td>Bank transfer (automatic)</td>\n",
       "      <td>1</td>\n",
       "      <td>1</td>\n",
       "      <td>2.25</td>\n",
       "      <td>0</td>\n",
       "      <td>1</td>\n",
       "      <td>NaN</td>\n",
       "    </tr>\n",
       "    <tr>\n",
       "      <th>252</th>\n",
       "      <td>1</td>\n",
       "      <td>1</td>\n",
       "      <td>1</td>\n",
       "      <td>2189-UXTKY</td>\n",
       "      <td>0</td>\n",
       "      <td>0</td>\n",
       "      <td>1</td>\n",
       "      <td>0</td>\n",
       "      <td>22</td>\n",
       "      <td>1</td>\n",
       "      <td>...</td>\n",
       "      <td>1</td>\n",
       "      <td>DSL</td>\n",
       "      <td>Month-to-month</td>\n",
       "      <td>Electronic check</td>\n",
       "      <td>0</td>\n",
       "      <td>1</td>\n",
       "      <td>1.83</td>\n",
       "      <td>1</td>\n",
       "      <td>0</td>\n",
       "      <td>NaN</td>\n",
       "    </tr>\n",
       "  </tbody>\n",
       "</table>\n",
       "<p>7032 rows × 30 columns</p>\n",
       "</div>"
      ],
      "text/plain": [
       "      payment_type_id  contract_type_id  internet_service_type_id customer_id  \\\n",
       "5399                4                 3                         1  0757-WCUUZ   \n",
       "2876                4                 1                         2  7603-USHJS   \n",
       "659                 3                 1                         1  5311-IHLEI   \n",
       "5843                3                 3                         1  7975-JMZNT   \n",
       "2229                2                 1                         2  4660-IRIBM   \n",
       "...               ...               ...                       ...         ...   \n",
       "4275                2                 2                         1  6994-ORCWG   \n",
       "2612                1                 1                         2  6372-RFVNS   \n",
       "2765                1                 1                         2  7137-RYLPP   \n",
       "4898                3                 2                         2  8329-UTMVM   \n",
       "252                 1                 1                         1  2189-UXTKY   \n",
       "\n",
       "      male  senior_citizen  partner  dependents  monthly_tenure  \\\n",
       "5399     1               0        1           1              54   \n",
       "2876     1               0        0           1              12   \n",
       "659      1               0        0           0              12   \n",
       "5843     1               0        1           0              66   \n",
       "2229     1               0        1           1              18   \n",
       "...    ...             ...      ...         ...             ...   \n",
       "4275     0               0        0           0              14   \n",
       "2612     0               0        1           0               1   \n",
       "2765     1               1        1           0              37   \n",
       "4898     1               1        0           0              27   \n",
       "252      0               0        1           0              22   \n",
       "\n",
       "      phone_service  ... churn  internet_service_type   contract_type  \\\n",
       "5399              1  ...     0                    DSL        Two year   \n",
       "2876              1  ...     1            Fiber optic  Month-to-month   \n",
       "659               0  ...     0                    DSL  Month-to-month   \n",
       "5843              1  ...     0                    DSL        Two year   \n",
       "2229              1  ...     0            Fiber optic  Month-to-month   \n",
       "...             ...  ...   ...                    ...             ...   \n",
       "4275              1  ...     0                    DSL        One year   \n",
       "2612              1  ...     1            Fiber optic  Month-to-month   \n",
       "2765              1  ...     1            Fiber optic  Month-to-month   \n",
       "4898              1  ...     0            Fiber optic        One year   \n",
       "252               1  ...     1                    DSL  Month-to-month   \n",
       "\n",
       "                   payment_type  is_automatic_payment  phone_lines  \\\n",
       "5399    Credit card (automatic)                     1            1   \n",
       "2876    Credit card (automatic)                     1            1   \n",
       "659   Bank transfer (automatic)                     1            0   \n",
       "5843  Bank transfer (automatic)                     1            1   \n",
       "2229               Mailed check                     0            0   \n",
       "...                         ...                   ...          ...   \n",
       "4275               Mailed check                     0            1   \n",
       "2612           Electronic check                     0            0   \n",
       "2765           Electronic check                     0            1   \n",
       "4898  Bank transfer (automatic)                     1            1   \n",
       "252            Electronic check                     0            1   \n",
       "\n",
       "      yearly_tenure  part_depend  fiber  baseline_prediction  \n",
       "5399           4.50            2      0                  0.0  \n",
       "2876           1.00            1      1                  0.0  \n",
       "659            1.00            0      0                  0.0  \n",
       "5843           5.50            1      0                  0.0  \n",
       "2229           1.50            2      1                  0.0  \n",
       "...             ...          ...    ...                  ...  \n",
       "4275           1.17            0      0                  NaN  \n",
       "2612           0.08            1      1                  NaN  \n",
       "2765           3.08            1      1                  NaN  \n",
       "4898           2.25            0      1                  NaN  \n",
       "252            1.83            1      0                  NaN  \n",
       "\n",
       "[7032 rows x 30 columns]"
      ]
     },
     "execution_count": 86,
     "metadata": {},
     "output_type": "execute_result"
    }
   ],
   "source": [
    "# Recreate dataframe before the split by concat all 3 dataframes\n",
    "full_dataset = pd.concat([train, validate, test])\n",
    "full_dataset"
   ]
  },
  {
   "cell_type": "code",
   "execution_count": 87,
   "metadata": {},
   "outputs": [
    {
     "name": "stdout",
     "output_type": "stream",
     "text": [
      "              precision    recall  f1-score   support\n",
      "\n",
      "           0       0.80      0.89      0.84      5163\n",
      "           1       0.56      0.40      0.46      1869\n",
      "\n",
      "    accuracy                           0.76      7032\n",
      "   macro avg       0.68      0.64      0.65      7032\n",
      "weighted avg       0.74      0.76      0.74      7032\n",
      "\n",
      "[[4580  583]\n",
      " [1129  740]]\n"
     ]
    }
   ],
   "source": [
    "# creating df with selected features for model 1\n",
    "m1_X_full = full_dataset[['is_automatic_payment', 'monthly_charges', 'fiber']]\n",
    "m1_y_full = full_dataset.churn\n",
    "\n",
    "m1_pred_full = pd.DataFrame(m1_logit.predict(m1_X_full))\n",
    "\n",
    "print(classification_report(m1_y_full, m1_pred_full))\n",
    "print(confusion_matrix(m1_y_full, m1_pred_full))"
   ]
  },
  {
   "cell_type": "markdown",
   "metadata": {},
   "source": [
    "Model 1 maintained and slightly exceeded its 75% accuracy while predicting churn for the entire dataset. While it went up 1% this could mean it was only a slight increase and got bumped up due to rounding."
   ]
  },
  {
   "cell_type": "code",
   "execution_count": 90,
   "metadata": {},
   "outputs": [],
   "source": [
    "m1_pred_prob = pd.DataFrame(m1_logit.predict_proba(m1_X_full))\n",
    "m1_pred_prob = m1_pred_prob.drop(0, axis=1)\n",
    "m1_pred_prob['customer_id'] = full_dataset.customer_id\n",
    "m1_pred_prob['model_1_prediction'] = m1_pred_full\n",
    "m1_pred_prob.rename(columns={1:'probability_of_churn'}, inplace=True)\n",
    "m1_pred_prob = m1_pred_prob[['customer_id', 'probability_of_churn', 'model_1_prediction']]\n",
    "m1_pred_prob.to_csv('predictions.csv')"
   ]
  },
  {
   "cell_type": "markdown",
   "metadata": {},
   "source": [
    "### Prediction Takeaways\n",
    "model 1's performance metrics on overall data:\n",
    "- Accuracy: 76%\n",
    "- Recall: 40%\n",
    "    - Does a poor job at predicting churn when a customer will actually churn\n",
    "- Precision: 56%\n",
    "    - a little more than half the time that the model predicts a positive it is correct\n",
    "- f1-score: 46%\n",
    "    - Our best method to improve upon the f1 score in the future is by improving our weakest metric, recall"
   ]
  },
  {
   "cell_type": "markdown",
   "metadata": {},
   "source": [
    "## Conclusion\n",
    "Summarizing what we learned from our analysis and modeling. I'll summarize my model, my recommendations, and the next steps to improve upon this further in the future."
   ]
  },
  {
   "cell_type": "markdown",
   "metadata": {},
   "source": [
    "### Analysis Conclusions\n",
    "Exploration revealed that some drivers of churn are:\n",
    "- monthly charges\n",
    "- automatic vs manual payments\n",
    "- whether or not a customer has fiber optic package\n",
    "\n",
    "The average monthly charges of our customers that churned are higher than the average monthly charges of the customers that didn't churn.  \n",
    "Our customers that are on an automatic payment plan tend to stay with us for longer than those who pay manually.  \n",
    "Customers that are paying for fiber optic internet tend to churn more often than those aren't."
   ]
  },
  {
   "cell_type": "markdown",
   "metadata": {},
   "source": [
    "### Recommendations"
   ]
  },
  {
   "cell_type": "markdown",
   "metadata": {},
   "source": [
    "My recommendation to reduce churn is a two step plan.  \n",
    "First we should offer our customers that are currently paying for our services manually a discounted rate if they were to swap to an automatic payment plan.  \n",
    "This has the benefit of not only getting customers on an automatic payment plan but also reducing their monthly charges in which case both will help reduce their probability of churning.  \n",
    "\n",
    "Second, we should give a general price reduction on our customers that are paying for the fiber optic package seeing as customers with that package are more likely to churn than those on DSL or without internet."
   ]
  },
  {
   "cell_type": "markdown",
   "metadata": {},
   "source": [
    "### Model Summarization\n",
    "I created a model that identified the variables monthly charges, automatic vs manual payments, and fiber optic customers.\n",
    "- This model maintained an accuracy of around 75-76% on both in and out of sample data\n",
    "- The models biggest fault is its recall so if our churn rate were to increase in the future the model would become less accurate over time."
   ]
  },
  {
   "cell_type": "markdown",
   "metadata": {},
   "source": [
    "### Next Steps\n",
    "The next step would be using what we learned here to build a more refined model that improves its ability to predict when a customer is actually churning vs just being very good at predicting when they aren't."
   ]
  }
 ],
 "metadata": {
  "kernelspec": {
   "display_name": "Python 3",
   "language": "python",
   "name": "python3"
  },
  "language_info": {
   "codemirror_mode": {
    "name": "ipython",
    "version": 3
   },
   "file_extension": ".py",
   "mimetype": "text/x-python",
   "name": "python",
   "nbconvert_exporter": "python",
   "pygments_lexer": "ipython3",
   "version": "3.7.6"
  }
 },
 "nbformat": 4,
 "nbformat_minor": 4
}
