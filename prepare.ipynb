{
 "cells": [
  {
   "cell_type": "code",
   "execution_count": 2,
   "metadata": {},
   "outputs": [],
   "source": [
    "import pandas as pd\n",
    "from sklearn.model_selection import train_test_split\n",
    "from acquire import get_telco_data"
   ]
  },
  {
   "cell_type": "code",
   "execution_count": 77,
   "metadata": {},
   "outputs": [],
   "source": [
    "def prep_telco_data():\n",
    "    # Use acquire file to import telco data\n",
    "    df = get_telco_data()\n",
    "    # Drop duplicates if there are any\n",
    "    df.drop_duplicates(inplace=True)\n",
    "    #\n",
    "    payment_type_cols = [1, 2, 3, 4]\n",
    "    df['is_automatic_payment'] = df.payment_type_id.replace(payment_type_cols, [0,0,1,1])\n",
    "    no_internet = ['streaming_movies', 'tech_support', 'streaming_tv', 'online_security', 'online_backup', 'device_protection']\n",
    "    df[no_internet] = df[no_internet].replace({'No internet service': 0, 'No': 1, 'Yes': 2})\n",
    "    binary_cols = ['churn', 'partner', 'dependents', 'phone_service', 'multiple_lines', 'paperless_billing']\n",
    "    df[binary_cols] = df[binary_cols].replace('Yes', 1).replace('No', 0)\n",
    "    df.rename(columns={'gender':'male'}, inplace=True)\n",
    "    df['male'] = df['male'].replace('Male', 1).replace('Female', 0)\n",
    "    df['total_charges'] = df.total_charges.where((df.tenure != 0), 0)\n",
    "    df = df.astype({'total_charges':'float64'})\n",
    "    df['phone_lines'] = df['multiple_lines'].replace({'No phone service': 0, 'No': 1, 'Yes': 2})\n",
    "    df.drop(columns='multiple_lines')\n",
    "    df.rename(columns={'tenure':'monthly_tenure'}, inplace=True)\n",
    "    df['yearly_tenure'] = round(df.monthly_tenure / 12, 2)\n",
    "    df['part_depend'] = df['partner'] + df['dependents']\n",
    "    df = df.drop(df[((df['monthly_tenure'].sort_values() == 0))].index)\n",
    "    internet_types = [1, 2, 3]\n",
    "    df['fiber'] = df['internet_service_type_id'].replace(internet_types, [0, 1, 0])\n",
    "    train_validate, test = train_test_split(df, test_size=.2, random_state=123)\n",
    "    train, validate = train_test_split(train_validate, test_size=.3, random_state=123)\n",
    "    return train, validate, test"
   ]
  },
  {
   "cell_type": "code",
   "execution_count": null,
   "metadata": {},
   "outputs": [],
   "source": []
  }
 ],
 "metadata": {
  "kernelspec": {
   "display_name": "Python 3",
   "language": "python",
   "name": "python3"
  },
  "language_info": {
   "codemirror_mode": {
    "name": "ipython",
    "version": 3
   },
   "file_extension": ".py",
   "mimetype": "text/x-python",
   "name": "python",
   "nbconvert_exporter": "python",
   "pygments_lexer": "ipython3",
   "version": "3.7.6"
  }
 },
 "nbformat": 4,
 "nbformat_minor": 4
}
